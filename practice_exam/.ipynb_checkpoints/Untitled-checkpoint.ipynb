{
 "cells": [
  {
   "cell_type": "code",
   "execution_count": 51,
   "id": "7c0520fb",
   "metadata": {},
   "outputs": [
    {
     "data": {
      "text/plain": [
       "'zyxwv'"
      ]
     },
     "execution_count": 51,
     "metadata": {},
     "output_type": "execute_result"
    }
   ],
   "source": [
    "def opposite_letter(letter):\n",
    "    ret = None\n",
    "    if ord(letter) > 96:\n",
    "        ret = 219 - ord(letter)\n",
    "    elif ord(letter) < 91:\n",
    "        ret = 155 - ord(letter)\n",
    "    else:\n",
    "        return letter\n",
    "    return chr(ret)\n",
    "\n",
    "def offset_letter(letter, offset):\n",
    "    ret = None\n",
    "    if ord(letter) > 96:\n",
    "        ret = ord(letter) + offset\n",
    "        while(ret > 122):\n",
    "            ret -= 26\n",
    "    elif ord(letter) < 91:\n",
    "        ret = ord(letter) + offset\n",
    "        while(ret > 90):\n",
    "            ret -= 26\n",
    "    else:\n",
    "        return letter\n",
    "    return chr(ret)\n",
    "\n",
    "def decoder(ciphertext : str, key : str) -> str:\n",
    "    \n",
    "    if(len(key) > 1):\n",
    "        raise ValueError;\n",
    "    \n",
    "    offset = 0\n",
    "    ret = \"\"\n",
    "    \n",
    "    for char in ciphertext:\n",
    "        new_char = opposite_letter(char)\n",
    "        new_char = offset_letter(new_char, offset)\n",
    "        ret += new_char\n",
    "        if char == key:\n",
    "            offset += 1\n",
    "    \n",
    "    return ret\n",
    "\n",
    "decoder('abcde', 'z')"
   ]
  },
  {
   "cell_type": "code",
   "execution_count": 16,
   "id": "9ff2f597",
   "metadata": {},
   "outputs": [
    {
     "data": {
      "text/plain": [
       "(97, 122, 65, 90)"
      ]
     },
     "execution_count": 16,
     "metadata": {},
     "output_type": "execute_result"
    }
   ],
   "source": [
    "ord('a'), ord('z'), ord('A'), ord('Z')"
   ]
  },
  {
   "cell_type": "code",
   "execution_count": 47,
   "id": "81170c57",
   "metadata": {},
   "outputs": [
    {
     "data": {
      "text/plain": [
       "'a'"
      ]
     },
     "execution_count": 47,
     "metadata": {},
     "output_type": "execute_result"
    }
   ],
   "source": [
    "offset_letter('a', 26)"
   ]
  }
 ],
 "metadata": {
  "kernelspec": {
   "display_name": "Python 3 (ipykernel)",
   "language": "python",
   "name": "python3"
  },
  "language_info": {
   "codemirror_mode": {
    "name": "ipython",
    "version": 3
   },
   "file_extension": ".py",
   "mimetype": "text/x-python",
   "name": "python",
   "nbconvert_exporter": "python",
   "pygments_lexer": "ipython3",
   "version": "3.10.4"
  }
 },
 "nbformat": 4,
 "nbformat_minor": 5
}
