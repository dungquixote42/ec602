{
 "cells": [
  {
   "cell_type": "code",
   "execution_count": 67,
   "id": "2b3d7aa6",
   "metadata": {},
   "outputs": [
    {
     "data": {
      "text/plain": [
       "'acdef'"
      ]
     },
     "execution_count": 67,
     "metadata": {},
     "output_type": "execute_result"
    }
   ],
   "source": [
    "def opposite_letter(letter):\n",
    "    ret = None\n",
    "    num = ord(letter)\n",
    "    if num > 96 and num < 123:\n",
    "        ret = 219 - num\n",
    "    elif ord(letter) < 91 and num > 64:\n",
    "        ret = 155 - num\n",
    "    else:\n",
    "        return letter\n",
    "    return chr(ret)\n",
    "\n",
    "def offset_letter(letter, offset):\n",
    "    ret = None\n",
    "    num = ord(letter)\n",
    "    if num > 96 and num < 123:\n",
    "        ret = num + offset\n",
    "        while(ret > 122):\n",
    "            ret -= 26\n",
    "    elif num < 91 and num > 64:\n",
    "        ret = num + offset\n",
    "        while(ret > 90):\n",
    "            ret -= 26\n",
    "    else:\n",
    "        return letter\n",
    "    return chr(ret)\n",
    "\n",
    "def opposite_offset(letter, offset):\n",
    "    ret = None\n",
    "    num = ord(letter)\n",
    "    if num > 96 and num < 123:\n",
    "        ret = 219 - num + offset\n",
    "        while(ret > 122):\n",
    "            ret -= 26\n",
    "    elif ord(letter) < 91 and num > 64:\n",
    "        ret = 155 - num + offset\n",
    "        while(ret > 90):\n",
    "            ret -= 26\n",
    "    else:\n",
    "        return letter\n",
    "    return chr(ret)\n",
    "    \n",
    "\n",
    "def decoder(ciphertext : str, key : str) -> str:\n",
    "    \n",
    "    if(len(key) > 1):\n",
    "        raise ValueError\n",
    "    \n",
    "    offset = 0\n",
    "    ret = \"\"\n",
    "    \n",
    "    for char in ciphertext:\n",
    "        new_char = opposite_offset(char, offset)\n",
    "        ret += new_char\n",
    "        char = new_char\n",
    "        if char == key:\n",
    "            offset += 1\n",
    "        elif ord(char) > 96 and ord(char) < 123:\n",
    "            if ord(char) - 32 == ord(key):\n",
    "                offset += 1\n",
    "        elif ord(char) > 64 and ord(char) < 91:\n",
    "            if ord(char) + 32 == ord(key):\n",
    "                offset += 1\n",
    "    \n",
    "    return ret\n",
    "\n",
    "decoder('zyxwv', 'a')"
   ]
  },
  {
   "cell_type": "code",
   "execution_count": 16,
   "id": "6fdd2115",
   "metadata": {},
   "outputs": [
    {
     "data": {
      "text/plain": [
       "(97, 122, 65, 90)"
      ]
     },
     "execution_count": 16,
     "metadata": {},
     "output_type": "execute_result"
    }
   ],
   "source": [
    "ord('a'), ord('z'), ord('A'), ord('Z')"
   ]
  },
  {
   "cell_type": "code",
   "execution_count": 47,
   "id": "916f417e",
   "metadata": {},
   "outputs": [
    {
     "data": {
      "text/plain": [
       "'a'"
      ]
     },
     "execution_count": 47,
     "metadata": {},
     "output_type": "execute_result"
    }
   ],
   "source": [
    "offset_letter('a', 26)"
   ]
  }
 ],
 "metadata": {
  "kernelspec": {
   "display_name": "Python 3 (ipykernel)",
   "language": "python",
   "name": "python3"
  },
  "language_info": {
   "codemirror_mode": {
    "name": "ipython",
    "version": 3
   },
   "file_extension": ".py",
   "mimetype": "text/x-python",
   "name": "python",
   "nbconvert_exporter": "python",
   "pygments_lexer": "ipython3",
   "version": "3.10.4"
  }
 },
 "nbformat": 4,
 "nbformat_minor": 5
}
