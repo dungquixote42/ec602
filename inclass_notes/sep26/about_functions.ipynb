{
 "cells": [
  {
   "cell_type": "markdown",
   "metadata": {},
   "source": [
    "# Methods and Functions\n",
    "\n",
    "Functions are groups of statements and operations that take arguments.\n",
    "\n",
    "    function(a,b,c)\n",
    "    \n",
    "Methods are functions that are **part of an object** and are called in a different way\n",
    "\n",
    "    a.method(b,c)\n",
    "    \n",
    "Think of this statement is \"tell `a` to do `method`\".\n",
    "\n",
    "Functions and methods are important ways of organizing your software. We will go into more detail about how and why to use functions and methods later.\n",
    "\n",
    "For now, let us look at examples of a function and a method."
   ]
  },
  {
   "cell_type": "code",
   "execution_count": 1,
   "metadata": {
    "collapsed": false,
    "jupyter": {
     "outputs_hidden": false
    }
   },
   "outputs": [
    {
     "name": "stdout",
     "output_type": "stream",
     "text": [
      "-1.0\n"
     ]
    }
   ],
   "source": [
    "# cos is a function\n",
    "\n",
    "from math import cos,pi\n",
    "a = cos(pi)\n",
    "print(a)"
   ]
  },
  {
   "cell_type": "code",
   "execution_count": 2,
   "metadata": {
    "collapsed": false,
    "jupyter": {
     "outputs_hidden": false
    }
   },
   "outputs": [
    {
     "name": "stdout",
     "output_type": "stream",
     "text": [
      "test methods 2\n"
     ]
    }
   ],
   "source": [
    "# strings have methods\n",
    "\n",
    "a=\"test methods\"\n",
    "b=a.capitalize()\n",
    "c=a.count('e')\n",
    "\n",
    "print(a,c)\n"
   ]
  },
  {
   "cell_type": "markdown",
   "metadata": {},
   "source": [
    "## Making your own functions \n",
    "\n",
    "You can create your own functions using the keyword `def`.\n",
    "\n",
    "Function definitions specify a comma separated list of parameters that are passed to the function.\n",
    "\n",
    "When a function is \"done\", the return statement is used to give an answer.\n",
    "\n",
    "Here is an example:"
   ]
  },
  {
   "cell_type": "code",
   "execution_count": 22,
   "metadata": {
    "collapsed": true,
    "jupyter": {
     "outputs_hidden": true
    }
   },
   "outputs": [],
   "source": [
    "def my_function(a,b):\n",
    "    print(a,b)\n",
    "    return \"answer\""
   ]
  },
  {
   "cell_type": "markdown",
   "metadata": {},
   "source": [
    "## Functions need to be called to be active\n",
    "\n",
    "At this point, python understands what `my_function` is, and so now it can be called, as shown below:\n",
    "\n"
   ]
  },
  {
   "cell_type": "code",
   "execution_count": 23,
   "metadata": {
    "collapsed": false,
    "jupyter": {
     "outputs_hidden": false
    }
   },
   "outputs": [
    {
     "name": "stdout",
     "output_type": "stream",
     "text": [
      "this 6\n",
      "answer\n"
     ]
    }
   ],
   "source": [
    "a = my_function('this',6)\n",
    "print(a)"
   ]
  },
  {
   "cell_type": "markdown",
   "metadata": {},
   "source": [
    "## Making your own classes\n",
    "\n",
    "To make a method, we first need to make a new class of object, and then make a method for that class.\n",
    "\n",
    "The following code defines a new type of thing called `my_stuff` and then defines a method for `my_stuff` called `my_method`\":\n"
   ]
  },
  {
   "cell_type": "code",
   "execution_count": 3,
   "metadata": {
    "collapsed": true,
    "jupyter": {
     "outputs_hidden": true
    }
   },
   "outputs": [],
   "source": [
    "class my_stuff():\n",
    "    def my_method(self,a,b):\n",
    "        print(a,b)\n",
    "        return \"answer\"\n",
    "        "
   ]
  },
  {
   "cell_type": "markdown",
   "metadata": {},
   "source": [
    "## Creating an \"instance\" of a class\n",
    "\n",
    "Just like we can make an \"instance\" of an `int` by calling\n",
    "\n",
    "    total = int(91)\n",
    "    \n",
    "we can create an \"instance\" of a `my_stuff` by calling\n",
    "\n",
    "    thing = my_stuff()"
   ]
  },
  {
   "cell_type": "code",
   "execution_count": 25,
   "metadata": {
    "collapsed": true,
    "jupyter": {
     "outputs_hidden": true
    }
   },
   "outputs": [],
   "source": [
    "a=my_stuff()"
   ]
  },
  {
   "cell_type": "markdown",
   "metadata": {},
   "source": [
    "## Using a method\n",
    "\n",
    "Now that we have an example `a` of a `my_stuff` type of object, we can use the previously defined method.\n",
    "\n",
    "Note that the method syntax and the function syntax are just two different ways to call the same funciton:\n",
    "\n"
   ]
  },
  {
   "cell_type": "code",
   "execution_count": 26,
   "metadata": {
    "collapsed": false,
    "jupyter": {
     "outputs_hidden": false
    }
   },
   "outputs": [
    {
     "name": "stdout",
     "output_type": "stream",
     "text": [
      "this that\n",
      "answer\n",
      "this that\n",
      "answer\n"
     ]
    }
   ],
   "source": [
    "# use method:\n",
    "b=a.my_method(\"this\",\"that\")\n",
    "print(b)\n",
    "\n",
    "# use function:\n",
    "b=my_stuff.my_method(a,'this','that')\n",
    "print(b)"
   ]
  },
  {
   "cell_type": "markdown",
   "metadata": {},
   "source": [
    "----\n",
    "\n",
    "## Exercise\n",
    "\n",
    "Given a string, count the number of times the substring \"it\" occurs in the string.\n",
    "\n",
    "Note that the `str` class defines a method `count` that accomplishes this task.\n",
    "\n",
    "In your solution, use both method syntax and function syntax to solve the problem."
   ]
  },
  {
   "cell_type": "code",
   "execution_count": null,
   "metadata": {
    "collapsed": true,
    "jupyter": {
     "outputs_hidden": true
    }
   },
   "outputs": [],
   "source": []
  },
  {
   "cell_type": "markdown",
   "metadata": {},
   "source": []
  },
  {
   "cell_type": "markdown",
   "metadata": {},
   "source": [
    "# Defining Functions\n",
    "\n",
    "We now delve a little deeper into how, when, and why to write functions.\n"
   ]
  },
  {
   "cell_type": "markdown",
   "metadata": {},
   "source": [
    "### Why Write Your Own Functions\n",
    "\n",
    "In brief, functions make larger programs feasible.\n",
    "\n",
    "A function or subprogram serves a number of useful purposes:\n",
    "    \n",
    "- separate a commonly used operation\n",
    "- make larger programs more understandable, more maintainable\n",
    "- simplify code reuse\n",
    "- allows the engineer to specify the desired behavior separately from the implementation\n",
    "- internals of the function can be updated without changing the calling program\n",
    "- provide a mechanism to decompose complicated tasks into subtasks\n",
    "\n",
    "The function concept is probably the most important building block of any non-trivial software (in any programming language).  "
   ]
  },
  {
   "cell_type": "markdown",
   "metadata": {},
   "source": [
    "### Function Syntax\n",
    "\n",
    "The syntax for defining functions is as follows:  \n",
    "\n",
    "- first, use the keyword **`def`** followed by the function name, which has similar restrictions to a variable.  \n",
    "- The function name is followed by a pair of parentheses, which may enclose the names of input variables to the function. \n",
    "- Following the pair of parenthesis is a colon that ends the line, and indicates the following statements are the block of statements that define the function.\n",
    "\n",
    "The syntax for defining a new function `function_name` is:\n",
    "\n",
    "    def function_name(...stuff function_name needs to know...):\n",
    "         code block line 1\n",
    "         code block line 2\n",
    "         ....   #<- the last line with indentation is end of code block\n",
    " \n",
    " \n",
    "Here is a complete example of a function `add_two()` which adds the two parameters passed to it, and returns the result:"
   ]
  },
  {
   "cell_type": "code",
   "execution_count": 66,
   "metadata": {
    "collapsed": true,
    "jupyter": {
     "outputs_hidden": true
    }
   },
   "outputs": [],
   "source": [
    "def add_two(x,y):      # define the function name and parameters\n",
    "    \"\"\" add x to y\"\"\"  # make documentation for this function\n",
    "    z = x + y          # calculate the answer\n",
    "    return z           # pass it back to the calling program"
   ]
  },
  {
   "cell_type": "markdown",
   "metadata": {},
   "source": [
    "At this point, the function `add_two` has been created / defined, and is\n",
    "ready to be used. \n",
    "\n",
    "We \"use\" a function by calling it, which looks like this:"
   ]
  },
  {
   "cell_type": "code",
   "execution_count": 67,
   "metadata": {
    "collapsed": false,
    "jupyter": {
     "outputs_hidden": false
    }
   },
   "outputs": [
    {
     "name": "stdout",
     "output_type": "stream",
     "text": [
      "thisthat\n"
     ]
    }
   ],
   "source": [
    "a=\"this\"\n",
    "b=\"that\"\n",
    "result = add_two(a,b)\n",
    "print(result)\n"
   ]
  },
  {
   "cell_type": "markdown",
   "metadata": {},
   "source": [
    "It is very important to understand what happened to cause `result` to be `thisthat`\n",
    "\n",
    "[visualize it on pythontutor](http://www.pythontutor.com/visualize.html#code=def+add_two(x,y%29%3A%0A++++z%3Dx%2By%0A++++return+z%0A++++%0Aa+%3D+'this'%0Ab+%3D+'that'%0A%0Aresult+%3D+add_two(a,b%29%0Aprint(result%29&mode=display&origin=opt-frontend.js&cumulative=false&heapPrimitives=false&textReferences=false&py=3&rawInputLstJSON=%5B%5D&curInstr=7)\n",
    "\n",
    "In short, the names `x` and `y` are passed the values of `a` and `b` respectively."
   ]
  },
  {
   "cell_type": "markdown",
   "metadata": {},
   "source": [
    "## When to write a function\n",
    "\n",
    "Basically, whenever you have a task that \n",
    "\n",
    "- processes information\n",
    "- produces a result, and \n",
    "- has a \"nameable\" purpose\n",
    "- might conceivably be called more than once (even for testing)\n",
    "\n",
    "then you should write a function for it.\n",
    "\n",
    "Taking the example of the lesson quiz for sequences, which was: \n",
    "\n",
    "    Given a tuple t, make a new tuple tt in which every element is multiplied by 2.\n",
    "    \n",
    "    For example, if\n",
    "    \n",
    "        t = (1,\"ab\",6.5,(1,2))\n",
    "    then\n",
    "        tt = (2,\"abab\",13.0,(1,2,1,2))\n",
    "        \n",
    "This is a perfect situation for a function."
   ]
  },
  {
   "cell_type": "markdown",
   "metadata": {},
   "source": [
    "#### Using a function, we change this code:\n",
    "\n"
   ]
  },
  {
   "cell_type": "code",
   "execution_count": 68,
   "metadata": {
    "collapsed": false,
    "jupyter": {
     "outputs_hidden": false
    }
   },
   "outputs": [
    {
     "name": "stdout",
     "output_type": "stream",
     "text": [
      "(2, 'abab', 13.0, (1, 2, 1, 2))\n"
     ]
    }
   ],
   "source": [
    "# Use the example as a test case.\n",
    "\n",
    "t = (1,\"ab\",6.5,(1,2))\n",
    "\n",
    "\n",
    "tt = tuple()\n",
    "\n",
    "for item in t:\n",
    "    tt += (item * 2,)\n",
    "\n",
    "print(tt)"
   ]
  },
  {
   "cell_type": "markdown",
   "metadata": {},
   "source": [
    "#### into this code:"
   ]
  },
  {
   "cell_type": "code",
   "execution_count": 69,
   "metadata": {
    "collapsed": false,
    "jupyter": {
     "outputs_hidden": false
    }
   },
   "outputs": [
    {
     "name": "stdout",
     "output_type": "stream",
     "text": [
      "(1, 'ab', 6.5, (1, 2)) (2, 'abab', 13.0, (1, 2, 1, 2))\n"
     ]
    }
   ],
   "source": [
    "def double_tuple(t):\n",
    "    \"\"\"make a new tuple from t with each element doubled\"\"\"\n",
    "    tt = tuple()\n",
    "    for item in t:\n",
    "        tt += (item * 2,)\n",
    "    return tt\n",
    "\n",
    "test=(1,\"ab\",6.5,(1,2))\n",
    "print(test,double_tuple(test))"
   ]
  },
  {
   "cell_type": "markdown",
   "metadata": {},
   "source": [
    "## Functions and namespaces\n",
    "\n",
    "When you define a function and it executes, it is executing in its own **execution frame** and any assignments will create **local variables**.\n",
    "\n",
    "References to variables will first look in the **local namespace** then in enclosing namespaces.\n",
    "\n",
    "Consider the following example:"
   ]
  },
  {
   "cell_type": "code",
   "execution_count": 70,
   "metadata": {
    "collapsed": false,
    "jupyter": {
     "outputs_hidden": false
    }
   },
   "outputs": [
    {
     "name": "stdout",
     "output_type": "stream",
     "text": [
      "a b 6\n"
     ]
    }
   ],
   "source": [
    "def add_two_z(x,y):      \n",
    "    z = x + y          \n",
    "    \n",
    "z=6\n",
    "x,y='a','b'\n",
    "add_two_z(x,y)\n",
    "print(x,y,z)"
   ]
  },
  {
   "cell_type": "code",
   "execution_count": 71,
   "metadata": {
    "collapsed": false,
    "jupyter": {
     "outputs_hidden": false
    }
   },
   "outputs": [
    {
     "name": "stdout",
     "output_type": "stream",
     "text": [
      "name 'z' is not defined\n",
      "6\n"
     ]
    }
   ],
   "source": [
    "if 'z' in dir(): # make sure z is not defined from \"before\"\n",
    "    del z\n",
    "\n",
    "def return_z(): ## this function is syntactically legal, but BAD BAD IDEA\n",
    "    return z\n",
    "\n",
    "try:\n",
    "    return_z()\n",
    "except Exception as e:\n",
    "    print(e)\n",
    "    \n",
    "z = 6\n",
    "print(return_z())"
   ]
  },
  {
   "cell_type": "markdown",
   "metadata": {},
   "source": [
    "## Functions are variables too\n",
    "\n",
    "This means they can be renamed, redefined, and put inside data structures.\n",
    "\n"
   ]
  },
  {
   "cell_type": "markdown",
   "metadata": {},
   "source": [
    "### Defining an alias for a function\n",
    "\n",
    "We can create alternate names for functions by **assigning the function** to a new variable.\n",
    "\n",
    "Note that \n",
    "[visualize the code](http://www.pythontutor.com/visualize.html#code=def+f(x%29%3A%0A++++return+x*2%0A%0Aimport+math%0A%0Ac%3Dmath.cos%0Ap%3Dmath.pi%0A%0Ag%3Df%0A%0Aprint(c(p%29,g(2%29%29&mode=display&origin=opt-frontend.js&cumulative=false&heapPrimitives=false&textReferences=false&py=3&rawInputLstJSON=%5B%5D&curInstr=0)"
   ]
  },
  {
   "cell_type": "code",
   "execution_count": 72,
   "metadata": {
    "collapsed": false,
    "jupyter": {
     "outputs_hidden": false
    }
   },
   "outputs": [
    {
     "name": "stdout",
     "output_type": "stream",
     "text": [
      "-1.0 4\n"
     ]
    }
   ],
   "source": [
    "def f(x):\n",
    "    return x*2\n",
    "\n",
    "import math\n",
    "\n",
    "c=math.cos\n",
    "p=math.pi\n",
    "\n",
    "g=f\n",
    "\n",
    "print(c(p),g(2))\n",
    "    "
   ]
  },
  {
   "cell_type": "markdown",
   "metadata": {},
   "source": [
    "### Redefining functions\n",
    "\n",
    "In the following example, we show that functions and their names are not the same."
   ]
  },
  {
   "cell_type": "code",
   "execution_count": 73,
   "metadata": {
    "collapsed": false,
    "jupyter": {
     "outputs_hidden": false
    }
   },
   "outputs": [
    {
     "name": "stdout",
     "output_type": "stream",
     "text": [
      "18\n",
      "30\n",
      "18 30\n",
      "Help on function f in module __main__:\n",
      "\n",
      "f(x)\n",
      "    times 3\n",
      "\n",
      "Help on function f in module __main__:\n",
      "\n",
      "f(x)\n",
      "    times 5\n",
      "\n"
     ]
    }
   ],
   "source": [
    "def f(x):\n",
    "    \"\"\"times 3\"\"\"\n",
    "    return x*3\n",
    "f1=f\n",
    "\n",
    "print(f(6))\n",
    "\n",
    "def f(x):\n",
    "    \"\"\"times 5\"\"\"\n",
    "    return x*5\n",
    "f2=f\n",
    "\n",
    "print(f(6))\n",
    "\n",
    "f=6\n",
    "print(f1(f),f2(f))\n",
    "help(f1)\n",
    "help(f2)"
   ]
  },
  {
   "cell_type": "markdown",
   "metadata": {},
   "source": [
    "### Fun with functions"
   ]
  },
  {
   "cell_type": "code",
   "execution_count": 74,
   "metadata": {
    "collapsed": false,
    "jupyter": {
     "outputs_hidden": false
    }
   },
   "outputs": [
    {
     "name": "stdout",
     "output_type": "stream",
     "text": [
      "sin ( 3.141592653589793 ) =  1.2246467991473532e-16\n",
      "cos ( 3.141592653589793 ) =  -1.0\n",
      "tan ( 3.141592653589793 ) =  -1.2246467991473532e-16\n",
      "sin ( 3.141592653589793 ) =  1.2246467991473532e-16\n",
      "cos ( 3.141592653589793 ) =  -1.0\n",
      "tan ( 3.141592653589793 ) =  -1.2246467991473532e-16\n"
     ]
    }
   ],
   "source": [
    "dotrig=(math.sin, math.cos , math.tan)\n",
    "\n",
    "pi = math.pi\n",
    "\n",
    "for x in dotrig:\n",
    "    print(x.__name__ , '(' , pi , ') = ' , x(pi) )\n",
    "    \n",
    "\n",
    "def myfun(x):\n",
    "    return x+'y'\n",
    "\n",
    "for fcn in ('sin','cos','tan'):\n",
    "    print(fcn, '(' , pi , ') = ' , getattr(math,fcn)(pi) )"
   ]
  },
  {
   "cell_type": "markdown",
   "metadata": {},
   "source": [
    "## Banned keywords `global`, `nonlocal`\n",
    "\n",
    "You may discover code examples in books or on the internet that\n",
    "employ the python statements `global` or `nonlocal`. \n",
    "\n",
    "Using them is a bad idea. Do not submit any code that uses them.\n",
    "You need to have a REALLY good reason to break this rule.\n",
    "\n",
    "I have written thousands of lines of python, and I have never\n",
    "needed or wanted to use them."
   ]
  },
  {
   "cell_type": "code",
   "execution_count": null,
   "metadata": {
    "collapsed": true,
    "jupyter": {
     "outputs_hidden": true
    }
   },
   "outputs": [],
   "source": []
  },
  {
   "cell_type": "markdown",
   "metadata": {},
   "source": []
  },
  {
   "cell_type": "code",
   "execution_count": null,
   "metadata": {
    "collapsed": true,
    "jupyter": {
     "outputs_hidden": true
    }
   },
   "outputs": [],
   "source": []
  }
 ],
 "metadata": {
  "kernelspec": {
   "display_name": "Python 3 (ipykernel)",
   "language": "python",
   "name": "python3"
  },
  "language_info": {
   "codemirror_mode": {
    "name": "ipython",
    "version": 3
   },
   "file_extension": ".py",
   "mimetype": "text/x-python",
   "name": "python",
   "nbconvert_exporter": "python",
   "pygments_lexer": "ipython3",
   "version": "3.9.12"
  }
 },
 "nbformat": 4,
 "nbformat_minor": 4
}
