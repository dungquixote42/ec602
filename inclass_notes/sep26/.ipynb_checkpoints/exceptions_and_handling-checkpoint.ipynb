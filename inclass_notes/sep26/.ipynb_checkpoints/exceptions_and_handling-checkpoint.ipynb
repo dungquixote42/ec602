{
 "cells": [
  {
   "cell_type": "code",
   "execution_count": 10,
   "id": "b4521f54-a096-4ce4-a904-22695fc00f0c",
   "metadata": {},
   "outputs": [
    {
     "ename": "TypeError",
     "evalue": "problem",
     "output_type": "error",
     "traceback": [
      "\u001b[0;31m---------------------------------------------------------------------------\u001b[0m",
      "\u001b[0;31mTypeError\u001b[0m                                 Traceback (most recent call last)",
      "Input \u001b[0;32mIn [10]\u001b[0m, in \u001b[0;36m<cell line: 1>\u001b[0;34m()\u001b[0m\n\u001b[0;32m----> 1\u001b[0m \u001b[38;5;28;01mraise\u001b[39;00m \u001b[38;5;167;01mTypeError\u001b[39;00m(\u001b[38;5;124m\"\u001b[39m\u001b[38;5;124mproblem\u001b[39m\u001b[38;5;124m\"\u001b[39m)\n",
      "\u001b[0;31mTypeError\u001b[0m: problem"
     ]
    }
   ],
   "source": [
    "raise TypeError(\"problem\")"
   ]
  },
  {
   "cell_type": "code",
   "execution_count": 7,
   "id": "7f0301eb-6711-429a-bfaf-503d60cdc6c0",
   "metadata": {},
   "outputs": [
    {
     "ename": "ValueError",
     "evalue": "invalid literal for int() with base 10: 'e'",
     "output_type": "error",
     "traceback": [
      "\u001b[0;31m---------------------------------------------------------------------------\u001b[0m",
      "\u001b[0;31mValueError\u001b[0m                                Traceback (most recent call last)",
      "Input \u001b[0;32mIn [7]\u001b[0m, in \u001b[0;36m<cell line: 1>\u001b[0;34m()\u001b[0m\n\u001b[0;32m----> 1\u001b[0m \u001b[38;5;28;43mint\u001b[39;49m\u001b[43m(\u001b[49m\u001b[38;5;124;43m\"\u001b[39;49m\u001b[38;5;124;43me\u001b[39;49m\u001b[38;5;124;43m\"\u001b[39;49m\u001b[43m)\u001b[49m\n",
      "\u001b[0;31mValueError\u001b[0m: invalid literal for int() with base 10: 'e'"
     ]
    }
   ],
   "source": [
    "int(\"e\")"
   ]
  },
  {
   "cell_type": "code",
   "execution_count": 5,
   "id": "38a4c829-3daa-4367-93a6-8374f4ccbd3a",
   "metadata": {},
   "outputs": [
    {
     "data": {
      "text/plain": [
       "ValueError"
      ]
     },
     "execution_count": 5,
     "metadata": {},
     "output_type": "execute_result"
    }
   ],
   "source": [
    "v = ValueError(\"test\")"
   ]
  },
  {
   "cell_type": "code",
   "execution_count": 6,
   "id": "78d64ec5-859a-4e59-9af2-b04fcb02b681",
   "metadata": {},
   "outputs": [
    {
     "ename": "NameError",
     "evalue": "name 'v' is not defined",
     "output_type": "error",
     "traceback": [
      "\u001b[0;31m---------------------------------------------------------------------------\u001b[0m",
      "\u001b[0;31mNameError\u001b[0m                                 Traceback (most recent call last)",
      "Input \u001b[0;32mIn [6]\u001b[0m, in \u001b[0;36m<cell line: 1>\u001b[0;34m()\u001b[0m\n\u001b[0;32m----> 1\u001b[0m \u001b[38;5;28;01mraise\u001b[39;00m \u001b[43mv\u001b[49m\n",
      "\u001b[0;31mNameError\u001b[0m: name 'v' is not defined"
     ]
    }
   ],
   "source": [
    "raise v"
   ]
  },
  {
   "cell_type": "code",
   "execution_count": 9,
   "id": "f51e9204-9e89-46c2-ac9b-9f157ed8f832",
   "metadata": {},
   "outputs": [
    {
     "name": "stdout",
     "output_type": "stream",
     "text": [
      "2.0\n",
      "2.0408163265306123\n",
      "2.0833333333333335\n",
      "2.127659574468085\n",
      "2.1739130434782608\n",
      "2.2222222222222223\n",
      "2.272727272727273\n",
      "2.3255813953488373\n",
      "2.380952380952381\n",
      "2.4390243902439024\n",
      "2.5\n",
      "2.5641025641025643\n",
      "2.6315789473684212\n",
      "2.7027027027027026\n",
      "2.7777777777777777\n",
      "2.857142857142857\n",
      "2.9411764705882355\n",
      "3.0303030303030303\n",
      "3.125\n",
      "3.225806451612903\n",
      "3.3333333333333335\n",
      "3.4482758620689653\n",
      "3.5714285714285716\n",
      "3.7037037037037037\n",
      "3.8461538461538463\n",
      "4.0\n",
      "4.166666666666667\n",
      "4.3478260869565215\n",
      "4.545454545454546\n",
      "4.761904761904762\n",
      "5.0\n",
      "5.2631578947368425\n",
      "5.555555555555555\n",
      "5.882352941176471\n",
      "6.25\n",
      "6.666666666666667\n",
      "7.142857142857143\n",
      "7.6923076923076925\n",
      "8.333333333333334\n",
      "9.090909090909092\n",
      "10.0\n",
      "11.11111111111111\n",
      "12.5\n",
      "14.285714285714286\n",
      "16.666666666666668\n",
      "20.0\n",
      "25.0\n",
      "33.333333333333336\n",
      "50.0\n",
      "100.0\n"
     ]
    },
    {
     "ename": "ZeroDivisionError",
     "evalue": "division by zero",
     "output_type": "error",
     "traceback": [
      "\u001b[0;31m---------------------------------------------------------------------------\u001b[0m",
      "\u001b[0;31mZeroDivisionError\u001b[0m                         Traceback (most recent call last)",
      "Input \u001b[0;32mIn [9]\u001b[0m, in \u001b[0;36m<cell line: 1>\u001b[0;34m()\u001b[0m\n\u001b[1;32m      1\u001b[0m \u001b[38;5;28;01mfor\u001b[39;00m i \u001b[38;5;129;01min\u001b[39;00m \u001b[38;5;28mrange\u001b[39m(\u001b[38;5;241m100\u001b[39m):\n\u001b[0;32m----> 2\u001b[0m     \u001b[38;5;28mprint\u001b[39m( \u001b[38;5;241;43m100\u001b[39;49m\u001b[43m \u001b[49m\u001b[38;5;241;43m/\u001b[39;49m\u001b[43m \u001b[49m\u001b[43m(\u001b[49m\u001b[38;5;241;43m50\u001b[39;49m\u001b[38;5;241;43m-\u001b[39;49m\u001b[43mi\u001b[49m\u001b[43m)\u001b[49m)\n",
      "\u001b[0;31mZeroDivisionError\u001b[0m: division by zero"
     ]
    }
   ],
   "source": [
    "for i in range(100):\n",
    "    print( 100 / (50-i))"
   ]
  },
  {
   "cell_type": "code",
   "execution_count": 1,
   "id": "0cbf2cc3-bbdc-4058-9bcc-12cc4cd58960",
   "metadata": {},
   "outputs": [],
   "source": [
    "try:\n",
    "    f= \"open a network resource\"\n",
    "except:\n",
    "    print(\"nope\")"
   ]
  },
  {
   "cell_type": "code",
   "execution_count": 13,
   "id": "6e185ebd-9c99-448a-883c-4d2b724bb420",
   "metadata": {},
   "outputs": [
    {
     "data": {
      "text/plain": [
       "340282366920938463463374607431768211456"
      ]
     },
     "execution_count": 13,
     "metadata": {},
     "output_type": "execute_result"
    }
   ],
   "source": [
    "2**128"
   ]
  },
  {
   "cell_type": "code",
   "execution_count": null,
   "id": "bd60e0ea-ddde-4b37-ae89-f3d85fa1c255",
   "metadata": {},
   "outputs": [],
   "source": []
  }
 ],
 "metadata": {
  "kernelspec": {
   "display_name": "Python 3 (ipykernel)",
   "language": "python",
   "name": "python3"
  },
  "language_info": {
   "codemirror_mode": {
    "name": "ipython",
    "version": 3
   },
   "file_extension": ".py",
   "mimetype": "text/x-python",
   "name": "python",
   "nbconvert_exporter": "python",
   "pygments_lexer": "ipython3",
   "version": "3.10.4"
  }
 },
 "nbformat": 4,
 "nbformat_minor": 5
}
