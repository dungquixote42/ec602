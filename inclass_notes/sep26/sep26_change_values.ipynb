{
 "cells": [
  {
   "cell_type": "markdown",
   "id": "0c1bea55-d16d-48f6-89fb-c4103e741ac0",
   "metadata": {},
   "source": [
    "# Changing function parameter values\n"
   ]
  },
  {
   "cell_type": "markdown",
   "id": "05333d21-82f8-4159-b9fb-4203e36747f0",
   "metadata": {},
   "source": [
    "# Lists\n"
   ]
  },
  {
   "cell_type": "code",
   "execution_count": 1,
   "id": "6985e02d-312d-4fc2-aaaf-0586bd44ac42",
   "metadata": {},
   "outputs": [
    {
     "name": "stdout",
     "output_type": "stream",
     "text": [
      "[3, 4, 5, 'new']\n"
     ]
    }
   ],
   "source": [
    "w = [3,4,5]\n",
    "\n",
    "w.append(\"new\")\n",
    "print(w)"
   ]
  },
  {
   "cell_type": "code",
   "execution_count": 2,
   "id": "ff1482df-c744-47ef-ac9b-752423192b3c",
   "metadata": {},
   "outputs": [
    {
     "name": "stdout",
     "output_type": "stream",
     "text": [
      "None\n"
     ]
    }
   ],
   "source": [
    "q = [3, 4, 5]\n",
    "\n",
    "q = q.append('new')\n",
    "print(q)"
   ]
  },
  {
   "cell_type": "code",
   "execution_count": 3,
   "id": "ced36b29-898c-4f70-b624-8ea752fe9919",
   "metadata": {},
   "outputs": [
    {
     "name": "stdout",
     "output_type": "stream",
     "text": [
      "[0, 2, 4, 6, 8, 10, 12, 14, 16, 18]\n"
     ]
    }
   ],
   "source": [
    "even =[]\n",
    "for i in range(20):\n",
    "    if i % 2 == 0:\n",
    "        even.append(i)\n",
    "print(even)"
   ]
  },
  {
   "cell_type": "code",
   "execution_count": 6,
   "id": "d920ebc7-2a8f-4feb-ac61-fef079ccfadb",
   "metadata": {},
   "outputs": [],
   "source": [
    "# Write a function that adds quotes \" to a string at either end"
   ]
  },
  {
   "cell_type": "code",
   "execution_count": 23,
   "id": "dcf57ba6-b695-480d-bdbc-8ed829bfcb8e",
   "metadata": {},
   "outputs": [
    {
     "name": "stdout",
     "output_type": "stream",
     "text": [
      "140459087490160\n",
      "140459110378544 140459087490160\n",
      "\"Hello\" 7 '\"Hello\"'\n",
      "Hello\n"
     ]
    }
   ],
   "source": [
    "def add_quotes(s):\n",
    "    s = '\"' + s + '\"'\n",
    "    return s\n",
    "\n",
    "\n",
    "phrase = \"Hello\"\n",
    "g= phrase\n",
    "print(id(phrase))\n",
    "phrase = add_quotes(phrase)\n",
    "print(id(phrase),id(g))\n",
    "print(phrase, len(phrase),repr(phrase))\n",
    "add_quotes(\"bye\")\n",
    "print(g)"
   ]
  },
  {
   "cell_type": "code",
   "execution_count": 5,
   "id": "18c5d773-051d-4954-b6d0-56df221090c7",
   "metadata": {},
   "outputs": [],
   "source": [
    "# Write a function that adds a zero to either end of a list"
   ]
  },
  {
   "cell_type": "code",
   "execution_count": 9,
   "id": "62feba93-8fa1-4fd2-9049-64e4e43b247f",
   "metadata": {},
   "outputs": [],
   "source": [
    "s='q \" x'"
   ]
  },
  {
   "cell_type": "code",
   "execution_count": 10,
   "id": "bbf0dd03-d661-450a-9112-e1426a44da53",
   "metadata": {},
   "outputs": [
    {
     "name": "stdout",
     "output_type": "stream",
     "text": [
      "q \" x\n"
     ]
    }
   ],
   "source": [
    "# str are immutable objects\n"
   ]
  },
  {
   "cell_type": "code",
   "execution_count": 29,
   "id": "92a5a971-6068-44cc-bb5d-43b8f1e8c9a0",
   "metadata": {},
   "outputs": [
    {
     "name": "stdout",
     "output_type": "stream",
     "text": [
      "140459113640000\n",
      "140459113640000\n",
      "140459113641536\n",
      "[0, 4, 5, 1, 'one', 6, 0]\n"
     ]
    }
   ],
   "source": [
    "def add_zeros(column):\n",
    "    print(id(column))\n",
    "    column = [0] + column + [0]\n",
    "    print(id(column))\n",
    "    return column\n",
    "    \n",
    "    \n",
    "values = [4,5,1,\"one\",6]\n",
    "print(id(values))\n",
    "values = add_zeros(values)\n",
    "\n",
    "print(values)"
   ]
  },
  {
   "cell_type": "code",
   "execution_count": 38,
   "id": "a93adc4e-623e-4457-8820-5e9ebbd380c2",
   "metadata": {},
   "outputs": [
    {
     "name": "stdout",
     "output_type": "stream",
     "text": [
      "140459108958272\n",
      "140459108958272\n",
      "140459108958272\n",
      "140459108958272\n",
      "[0, 4, 5, 1, 'one', 6, 0]\n",
      "[0, 4, 5, 1, 'one', 6, 0]\n",
      "[4, 5, 1, 'one', 6]\n"
     ]
    }
   ],
   "source": [
    "# list is mutable\n",
    "\n",
    "def add_zeros(column):\n",
    "  print(id(column))\n",
    "  column.append(0)\n",
    "  column.insert(0,0)\n",
    "  print(id(column))\n",
    "\n",
    "    \n",
    "    \n",
    "values = [4,5,1,\"one\",6]\n",
    "value_copy = values\n",
    "value_another = values[:]\n",
    "print(id(values))\n",
    "\n",
    "add_zeros(values)\n",
    "print(id(values))\n",
    "\n",
    "\n",
    "print(values)\n",
    "print(value_copy)\n",
    "print(value_another)"
   ]
  },
  {
   "cell_type": "code",
   "execution_count": 32,
   "id": "0a6d888b-dbd9-489b-b4de-851bee7f4149",
   "metadata": {},
   "outputs": [
    {
     "name": "stdout",
     "output_type": "stream",
     "text": [
      "Help on class list in module builtins:\n",
      "\n",
      "class list(object)\n",
      " |  list(iterable=(), /)\n",
      " |  \n",
      " |  Built-in mutable sequence.\n",
      " |  \n",
      " |  If no argument is given, the constructor creates a new empty list.\n",
      " |  The argument must be an iterable if specified.\n",
      " |  \n",
      " |  Methods defined here:\n",
      " |  \n",
      " |  __add__(self, value, /)\n",
      " |      Return self+value.\n",
      " |  \n",
      " |  __contains__(self, key, /)\n",
      " |      Return key in self.\n",
      " |  \n",
      " |  __delitem__(self, key, /)\n",
      " |      Delete self[key].\n",
      " |  \n",
      " |  __eq__(self, value, /)\n",
      " |      Return self==value.\n",
      " |  \n",
      " |  __ge__(self, value, /)\n",
      " |      Return self>=value.\n",
      " |  \n",
      " |  __getattribute__(self, name, /)\n",
      " |      Return getattr(self, name).\n",
      " |  \n",
      " |  __getitem__(...)\n",
      " |      x.__getitem__(y) <==> x[y]\n",
      " |  \n",
      " |  __gt__(self, value, /)\n",
      " |      Return self>value.\n",
      " |  \n",
      " |  __iadd__(self, value, /)\n",
      " |      Implement self+=value.\n",
      " |  \n",
      " |  __imul__(self, value, /)\n",
      " |      Implement self*=value.\n",
      " |  \n",
      " |  __init__(self, /, *args, **kwargs)\n",
      " |      Initialize self.  See help(type(self)) for accurate signature.\n",
      " |  \n",
      " |  __iter__(self, /)\n",
      " |      Implement iter(self).\n",
      " |  \n",
      " |  __le__(self, value, /)\n",
      " |      Return self<=value.\n",
      " |  \n",
      " |  __len__(self, /)\n",
      " |      Return len(self).\n",
      " |  \n",
      " |  __lt__(self, value, /)\n",
      " |      Return self<value.\n",
      " |  \n",
      " |  __mul__(self, value, /)\n",
      " |      Return self*value.\n",
      " |  \n",
      " |  __ne__(self, value, /)\n",
      " |      Return self!=value.\n",
      " |  \n",
      " |  __repr__(self, /)\n",
      " |      Return repr(self).\n",
      " |  \n",
      " |  __reversed__(self, /)\n",
      " |      Return a reverse iterator over the list.\n",
      " |  \n",
      " |  __rmul__(self, value, /)\n",
      " |      Return value*self.\n",
      " |  \n",
      " |  __setitem__(self, key, value, /)\n",
      " |      Set self[key] to value.\n",
      " |  \n",
      " |  __sizeof__(self, /)\n",
      " |      Return the size of the list in memory, in bytes.\n",
      " |  \n",
      " |  append(self, object, /)\n",
      " |      Append object to the end of the list.\n",
      " |  \n",
      " |  clear(self, /)\n",
      " |      Remove all items from list.\n",
      " |  \n",
      " |  copy(self, /)\n",
      " |      Return a shallow copy of the list.\n",
      " |  \n",
      " |  count(self, value, /)\n",
      " |      Return number of occurrences of value.\n",
      " |  \n",
      " |  extend(self, iterable, /)\n",
      " |      Extend list by appending elements from the iterable.\n",
      " |  \n",
      " |  index(self, value, start=0, stop=9223372036854775807, /)\n",
      " |      Return first index of value.\n",
      " |      \n",
      " |      Raises ValueError if the value is not present.\n",
      " |  \n",
      " |  insert(self, index, object, /)\n",
      " |      Insert object before index.\n",
      " |  \n",
      " |  pop(self, index=-1, /)\n",
      " |      Remove and return item at index (default last).\n",
      " |      \n",
      " |      Raises IndexError if list is empty or index is out of range.\n",
      " |  \n",
      " |  remove(self, value, /)\n",
      " |      Remove first occurrence of value.\n",
      " |      \n",
      " |      Raises ValueError if the value is not present.\n",
      " |  \n",
      " |  reverse(self, /)\n",
      " |      Reverse *IN PLACE*.\n",
      " |  \n",
      " |  sort(self, /, *, key=None, reverse=False)\n",
      " |      Sort the list in ascending order and return None.\n",
      " |      \n",
      " |      The sort is in-place (i.e. the list itself is modified) and stable (i.e. the\n",
      " |      order of two equal elements is maintained).\n",
      " |      \n",
      " |      If a key function is given, apply it once to each list item and sort them,\n",
      " |      ascending or descending, according to their function values.\n",
      " |      \n",
      " |      The reverse flag can be set to sort in descending order.\n",
      " |  \n",
      " |  ----------------------------------------------------------------------\n",
      " |  Class methods defined here:\n",
      " |  \n",
      " |  __class_getitem__(...) from builtins.type\n",
      " |      See PEP 585\n",
      " |  \n",
      " |  ----------------------------------------------------------------------\n",
      " |  Static methods defined here:\n",
      " |  \n",
      " |  __new__(*args, **kwargs) from builtins.type\n",
      " |      Create and return a new object.  See help(type) for accurate signature.\n",
      " |  \n",
      " |  ----------------------------------------------------------------------\n",
      " |  Data and other attributes defined here:\n",
      " |  \n",
      " |  __hash__ = None\n",
      "\n"
     ]
    }
   ],
   "source": [
    "help(list)"
   ]
  },
  {
   "cell_type": "code",
   "execution_count": null,
   "id": "9d495434-499b-4c55-a9a0-e0dbde4ceb67",
   "metadata": {},
   "outputs": [],
   "source": []
  }
 ],
 "metadata": {
  "kernelspec": {
   "display_name": "Python 3 (ipykernel)",
   "language": "python",
   "name": "python3"
  },
  "language_info": {
   "codemirror_mode": {
    "name": "ipython",
    "version": 3
   },
   "file_extension": ".py",
   "mimetype": "text/x-python",
   "name": "python",
   "nbconvert_exporter": "python",
   "pygments_lexer": "ipython3",
   "version": "3.9.12"
  }
 },
 "nbformat": 4,
 "nbformat_minor": 5
}
