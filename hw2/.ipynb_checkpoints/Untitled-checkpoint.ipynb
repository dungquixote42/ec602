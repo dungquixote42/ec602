{
 "cells": [
  {
   "cell_type": "code",
   "execution_count": 28,
   "id": "directed-spray",
   "metadata": {},
   "outputs": [],
   "source": [
    "import numpy as np\n",
    "\n",
    "def show_integer_properties():\n",
    "    Table = \"{:<6} {:<22} {:<22} {:<22}\"\n",
    "    print(Table.format(\"Bytes\",\"Largest Unsigned Int\",\"Minimum Signed Int\",\"Maximum Signed Int\"))\n",
    "    \n",
    "    for ii in range(1, 9):\n",
    "        int_largest_unsigned_int = 2**(8*ii)-1\n",
    "        int_minimum_signed_int = -(int_largest_unsigned_int+1 >> 1)\n",
    "        int_maximum_signed_int = (int_largest_unsigned_int-1) >> 1\n",
    "        print(Table.format(str(ii), str(int_largest_unsigned_int), str(int_minimum_signed_int), str(int_maximum_signed_int)))"
   ]
  },
  {
   "cell_type": "code",
   "execution_count": 29,
   "id": "appropriate-exercise",
   "metadata": {},
   "outputs": [
    {
     "name": "stdout",
     "output_type": "stream",
     "text": [
      "Bytes  Largest Unsigned Int   Minimum Signed Int     Maximum Signed Int    \n",
      "1      255                    -128                   127                   \n",
      "2      65535                  -32768                 32767                 \n",
      "3      16777215               -8388608               8388607               \n",
      "4      4294967295             -2147483648            2147483647            \n",
      "5      1099511627775          -549755813888          549755813887          \n",
      "6      281474976710655        -140737488355328       140737488355327       \n",
      "7      72057594037927935      -36028797018963968     36028797018963967     \n",
      "8      18446744073709551615   -9223372036854775808   9223372036854775807   \n"
     ]
    }
   ],
   "source": [
    "show_integer_properties()"
   ]
  },
  {
   "cell_type": "code",
   "execution_count": 88,
   "id": "exciting-peter",
   "metadata": {},
   "outputs": [
    {
     "ename": "TypeError",
     "evalue": "'int' object is not callable",
     "output_type": "error",
     "traceback": [
      "\u001b[1;31m---------------------------------------------------------------------------\u001b[0m",
      "\u001b[1;31mTypeError\u001b[0m                                 Traceback (most recent call last)",
      "\u001b[1;32m<ipython-input-88-d3598535008d>\u001b[0m in \u001b[0;36m<module>\u001b[1;34m\u001b[0m\n\u001b[0;32m      2\u001b[0m \u001b[0mm\u001b[0m \u001b[1;33m=\u001b[0m \u001b[0mnumpy\u001b[0m\u001b[1;33m.\u001b[0m\u001b[0marray\u001b[0m\u001b[1;33m(\u001b[0m\u001b[1;33m[\u001b[0m\u001b[1;36m1\u001b[0m\u001b[1;33m]\u001b[0m\u001b[1;33m,\u001b[0m\u001b[0mdtype\u001b[0m\u001b[1;33m=\u001b[0m \u001b[0mnumpy\u001b[0m\u001b[1;33m.\u001b[0m\u001b[0mint16\u001b[0m\u001b[1;33m)\u001b[0m\u001b[1;33m\u001b[0m\u001b[1;33m\u001b[0m\u001b[0m\n\u001b[0;32m      3\u001b[0m \u001b[1;33m\u001b[0m\u001b[0m\n\u001b[1;32m----> 4\u001b[1;33m \u001b[0mm\u001b[0m\u001b[1;33m.\u001b[0m\u001b[0msize\u001b[0m\u001b[1;33m(\u001b[0m\u001b[1;33m)\u001b[0m\u001b[1;33m\u001b[0m\u001b[1;33m\u001b[0m\u001b[0m\n\u001b[0m",
      "\u001b[1;31mTypeError\u001b[0m: 'int' object is not callable"
     ]
    }
   ],
   "source": [
    "import numpy\n",
    "m = numpy.array([1],dtype= numpy.int16)\n",
    "\n",
    "m.size()"
   ]
  },
  {
   "cell_type": "code",
   "execution_count": 96,
   "id": "pressed-mexican",
   "metadata": {},
   "outputs": [
    {
     "name": "stdout",
     "output_type": "stream",
     "text": [
      "estimated 8-bit time (nanoseconds): 804670.1550483704\n",
      "measured 16-bit time (microseconds): 205995.5596923828\n",
      "estimated 32-bit time (seconds): 13500.125\n",
      "estimated 64-bit time (years): 44126784.90632573\n"
     ]
    }
   ],
   "source": [
    "import numpy as np\n",
    "from time import time\n",
    "\n",
    "def estimate_wrap_around():\n",
    "    \n",
    "    m = np.array([1], dtype=np.int16)\n",
    "    seconds_start = time()\n",
    "    while m[0] > 0:\n",
    "        m[0] += 1\n",
    "    seconds_runtime = time() - seconds_start\n",
    "    str_line1 = \"measured 16-bit time (microseconds): \" + str(seconds_runtime * 1e6)\n",
    "    \n",
    "    str_line0 = \"estimated 8-bit time (nanoseconds): \" + str(seconds_runtime * 2**(8-16) * 1e9)\n",
    "    str_line2 = \"estimated 32-bit time (seconds): \" + str(seconds_runtime * 2**(32-16))\n",
    "    str_line3 = \"estimated 64-bit time (years): \" + str(seconds_runtime * 2**(64-16) /60/60/365)\n",
    "    \n",
    "    print(str_line0)\n",
    "    print(str_line1)\n",
    "    print(str_line2)\n",
    "    print(str_line3)\n",
    "    \n",
    "estimate_wrap_around()"
   ]
  },
  {
   "cell_type": "code",
   "execution_count": 89,
   "id": "respected-buffer",
   "metadata": {},
   "outputs": [
    {
     "data": {
      "text/plain": [
       "256.0"
      ]
     },
     "execution_count": 89,
     "metadata": {},
     "output_type": "execute_result"
    }
   ],
   "source": [
    "2**16 / 2**8"
   ]
  },
  {
   "cell_type": "code",
   "execution_count": 92,
   "id": "official-rating",
   "metadata": {},
   "outputs": [
    {
     "data": {
      "text/plain": [
       "2632.8125"
      ]
     },
     "execution_count": 92,
     "metadata": {},
     "output_type": "execute_result"
    }
   ],
   "source": [
    "674 / 256 * 1000"
   ]
  },
  {
   "cell_type": "code",
   "execution_count": 98,
   "id": "increasing-reflection",
   "metadata": {},
   "outputs": [
    {
     "name": "stdout",
     "output_type": "stream",
     "text": [
      "estimated 8-bit time (nanoseconds): 1000165.9393310547\n",
      "measured 16-bit time (microseconds): 200034.85679626465\n",
      "estimated 8-bit time (nanoseconds): 1980304.7180175781\n",
      "measured 16-bit time (microseconds): 663982.8681945801\n"
     ]
    }
   ],
   "source": [
    "import numpy as np\n",
    "from time import time\n",
    "\n",
    "def estimate_wrap_around():\n",
    "    m = np.array([1], dtype=np.int8)\n",
    "    start = time()\n",
    "    while (m[0] << 0) > 0:\n",
    "        m[0] += 1\n",
    "    print(\"estimated 8-bit time (nanoseconds):\", (time()-start)*1e9)\n",
    "    \n",
    "    m = np.array([1], dtype=np.int16)\n",
    "    start = time()\n",
    "    while (m[0] << 0) > 0:\n",
    "        m[0] += 1\n",
    "    print(\"measured 16-bit time (microseconds):\", (time()-start)*1e6)\n",
    "    \n",
    "estimate_wrap_around()\n",
    "\n",
    "def estimate_wrap_around():\n",
    "    m = np.array([1], dtype=np.int8)\n",
    "    start = time()\n",
    "    while (m[0] << 1) > 0:\n",
    "        m[0] += 1\n",
    "    print(\"estimated 8-bit time (nanoseconds):\", (time()-start)*2e9)\n",
    "    \n",
    "    m = np.array([1], dtype=np.int16)\n",
    "    start = time()\n",
    "    while (m[0] << 1) > 0:\n",
    "        m[0] += 1\n",
    "    print(\"measured 16-bit time (microseconds):\", (time()-start)*2e6)\n",
    "    \n",
    "estimate_wrap_around()"
   ]
  },
  {
   "cell_type": "code",
   "execution_count": null,
   "id": "funded-situation",
   "metadata": {},
   "outputs": [],
   "source": [
    "import numpy\n",
    "\n",
    "maximum_consecutive_int_value(float_type):\n",
    "    "
   ]
  },
  {
   "cell_type": "code",
   "execution_count": 102,
   "id": "wrapped-customer",
   "metadata": {},
   "outputs": [
    {
     "data": {
      "text/plain": [
       "0.15625"
      ]
     },
     "execution_count": 102,
     "metadata": {},
     "output_type": "execute_result"
    }
   ],
   "source": [
    "1.25*2**(4+8+16+32+64-127)"
   ]
  }
 ],
 "metadata": {
  "kernelspec": {
   "display_name": "Python 3",
   "language": "python",
   "name": "python3"
  },
  "language_info": {
   "codemirror_mode": {
    "name": "ipython",
    "version": 3
   },
   "file_extension": ".py",
   "mimetype": "text/x-python",
   "name": "python",
   "nbconvert_exporter": "python",
   "pygments_lexer": "ipython3",
   "version": "3.9.5"
  }
 },
 "nbformat": 4,
 "nbformat_minor": 5
}
