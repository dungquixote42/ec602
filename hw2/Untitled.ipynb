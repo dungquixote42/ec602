{
 "cells": [
  {
   "cell_type": "code",
   "execution_count": 3,
   "id": "20174b28",
   "metadata": {},
   "outputs": [],
   "source": [
    "import numpy\n",
    "from time import time\n",
    "\n",
    "def string_to_float(ret):\n",
    "    \n",
    "    nbyte = len(ret)/8\n",
    "    float_type = None\n",
    "    if nbyte == 2:\n",
    "        float_type = numpy.float16\n",
    "    if nbyte == 4:\n",
    "        float_type = numpy.float32\n",
    "    if nbyte == 8:\n",
    "        float_type = numpy.float64\n",
    "    \n",
    "    # parse ret by bytes\n",
    "    list_str = []\n",
    "    while(len(list_str) < nbyte): \n",
    "        list_str.append(ret[:8])\n",
    "        ret = ret[8:]\n",
    "        \n",
    "    # convert string to int\n",
    "    list_bytes = []\n",
    "    for str_bytes in list_str:\n",
    "        list_bytes = [int(str_bytes, 2)] + list_bytes # reverse order to compensate endianness\n",
    "        \n",
    "    ret = numpy.frombuffer(bytes(list_bytes), dtype=float_type)\n",
    "    return ret[0]\n",
    "\n",
    "def float_to_string(f):\n",
    "\n",
    "    byte_f = f.tobytes()\n",
    "    nbyte = len(byte_f)\n",
    "    \n",
    "    ret = \"\"\n",
    "    for i in range(0, nbyte):\n",
    "        str_bytes = bin(byte_f[i])[2:] # convert each byte to string\n",
    "        while(len(str_bytes) < 8):\n",
    "            str_bytes = \"0\" + str_bytes # pad with 0s on MSB side\n",
    "        ret = str_bytes + ret # concat all\n",
    "    return ret"
   ]
  },
  {
   "cell_type": "code",
   "execution_count": 4,
   "id": "directed-spray",
   "metadata": {},
   "outputs": [],
   "source": [
    "def show_integer_properties():\n",
    "    Table = \"{:<6} {:<22} {:<22} {:<22}\"\n",
    "    print(Table.format(\"Bytes\",\"Largest Unsigned Int\",\"Minimum Signed Int\",\"Maximum Signed Int\"))\n",
    "    \n",
    "    for ii in range(1, 9):\n",
    "        int_largest_unsigned_int = 2**(8*ii)-1\n",
    "        int_minimum_signed_int = -(int_largest_unsigned_int+1 >> 1)\n",
    "        int_maximum_signed_int = (int_largest_unsigned_int-1) >> 1\n",
    "        print(Table.format(str(ii), str(int_largest_unsigned_int), str(int_minimum_signed_int), str(int_maximum_signed_int)))"
   ]
  },
  {
   "cell_type": "code",
   "execution_count": 5,
   "id": "appropriate-exercise",
   "metadata": {
    "scrolled": true
   },
   "outputs": [
    {
     "name": "stdout",
     "output_type": "stream",
     "text": [
      "Bytes  Largest Unsigned Int   Minimum Signed Int     Maximum Signed Int    \n",
      "1      255                    -128                   127                   \n",
      "2      65535                  -32768                 32767                 \n",
      "3      16777215               -8388608               8388607               \n",
      "4      4294967295             -2147483648            2147483647            \n",
      "5      1099511627775          -549755813888          549755813887          \n",
      "6      281474976710655        -140737488355328       140737488355327       \n",
      "7      72057594037927935      -36028797018963968     36028797018963967     \n",
      "8      18446744073709551615   -9223372036854775808   9223372036854775807   \n"
     ]
    }
   ],
   "source": [
    "show_integer_properties()"
   ]
  },
  {
   "cell_type": "code",
   "execution_count": 6,
   "id": "pressed-mexican",
   "metadata": {},
   "outputs": [],
   "source": [
    "def estimate_wrap_around():\n",
    "    \n",
    "    m = numpy.array([1], dtype=numpy.int16)\n",
    "    seconds_start = time()\n",
    "    while m[0] > 0:\n",
    "        m[0] += 1\n",
    "    seconds_runtime = time() - seconds_start\n",
    "    str_line1 = \"measured 16-bit time (microseconds): \" + str(seconds_runtime * 1e6)\n",
    "    \n",
    "    str_line0 = \"estimated 8-bit time (nanoseconds): \" + str(seconds_runtime * 2**(8-16) * 1e9)\n",
    "    str_line2 = \"estimated 32-bit time (seconds): \" + str(seconds_runtime * 2**(32-16))\n",
    "    str_line3 = \"estimated 64-bit time (years): \" + str(seconds_runtime * 2**(64-16) /60/60/365)\n",
    "    \n",
    "    print(str_line0)\n",
    "    print(str_line1)\n",
    "    print(str_line2)\n",
    "    print(str_line3)"
   ]
  },
  {
   "cell_type": "code",
   "execution_count": 7,
   "id": "fd96d5f6",
   "metadata": {},
   "outputs": [
    {
     "name": "stdout",
     "output_type": "stream",
     "text": [
      "estimated 8-bit time (nanoseconds): 256807.54333734512\n",
      "measured 16-bit time (microseconds): 65742.73109436035\n",
      "estimated 32-bit time (seconds): 4308.515625\n",
      "estimated 64-bit time (years): 14082902.362009132\n"
     ]
    }
   ],
   "source": [
    "estimate_wrap_around()"
   ]
  },
  {
   "cell_type": "code",
   "execution_count": null,
   "id": "68f57e03",
   "metadata": {},
   "outputs": [],
   "source": [
    "# if type(f) == numpy.float16:\n",
    "#     fbits = 10\n",
    "#     ebias = -15\n",
    "#     nbyte = 2\n",
    "#     ebits = 5\n",
    "\n",
    "# if type(f) == numpy.float32:\n",
    "#     fbits = 23\n",
    "#     ebias = -127\n",
    "#     nbyte = 4\n",
    "#     ebits = 8\n",
    "\n",
    "# if type(f) == numpy.float64:\n",
    "#     fbits = 52\n",
    "#     ebias = -1023\n",
    "#     nbyte = 8\n",
    "#     ebits = 11\n",
    "\n",
    "# if type(f) == numpy.float128:\n",
    "#     fbits = 112\n",
    "#     ebias = -16383\n",
    "#     nbyte = 16\n",
    "#     ebits = 15"
   ]
  },
  {
   "cell_type": "code",
   "execution_count": 11,
   "id": "a78a4033",
   "metadata": {},
   "outputs": [],
   "source": [
    "def maximum_consecutive_int_value(arg):\n",
    "    fbits = None\n",
    "    ebias = None\n",
    "    nbyte = None\n",
    "    \n",
    "    if arg == numpy.float16:\n",
    "        fbits = 10\n",
    "        ebias = -15\n",
    "        nbyte = 2\n",
    "        \n",
    "    if arg == numpy.float32:\n",
    "        fbits = 23\n",
    "        ebias = -127\n",
    "        nbyte = 4\n",
    "        \n",
    "    if arg == numpy.float64:\n",
    "        fbits = 52\n",
    "        ebias = -1023\n",
    "        nbyte = 8\n",
    "        \n",
    "    ret = bin(fbits-ebias+1)[2:] # compute exponent into string\n",
    "    ret = \"0\" + ret + \"0\"*fbits # \"bitshift\" exponent to right place\n",
    "    \n",
    "    return string_to_float(ret)"
   ]
  },
  {
   "cell_type": "code",
   "execution_count": 12,
   "id": "32e8733c",
   "metadata": {},
   "outputs": [
    {
     "data": {
      "text/plain": [
       "9007199254740992.0"
      ]
     },
     "execution_count": 12,
     "metadata": {},
     "output_type": "execute_result"
    }
   ],
   "source": [
    "maximum_consecutive_int_value(numpy.float64)"
   ]
  },
  {
   "cell_type": "code",
   "execution_count": 53,
   "id": "e47b89aa",
   "metadata": {},
   "outputs": [],
   "source": [
    "def largest_double():\n",
    "    \n",
    "    fbits = 52\n",
    "    ebits = 11\n",
    "    \n",
    "    ret = bin((2**ebits)-2)[2:] # compute exponent into string\n",
    "    ret = \"0\" + ret + \"1\"*fbits # \"bitshift\" exponent to right place and pad with 1s\n",
    "    \n",
    "    return string_to_float(ret)"
   ]
  },
  {
   "cell_type": "code",
   "execution_count": 54,
   "id": "f32eb062",
   "metadata": {},
   "outputs": [
    {
     "data": {
      "text/plain": [
       "1.7976931348623157e+308"
      ]
     },
     "execution_count": 54,
     "metadata": {},
     "output_type": "execute_result"
    }
   ],
   "source": [
    "largest_double()"
   ]
  },
  {
   "cell_type": "code",
   "execution_count": 57,
   "id": "a95697a9",
   "metadata": {},
   "outputs": [],
   "source": [
    "def smallest_double():\n",
    "    \n",
    "    nbyte = 8\n",
    "    \n",
    "    ret = \"0\"*(nbyte*8-1) + \"1\" # all 0s except the LSB\n",
    "    \n",
    "    return string_to_float(ret)    "
   ]
  },
  {
   "cell_type": "code",
   "execution_count": 58,
   "id": "c6024458",
   "metadata": {},
   "outputs": [
    {
     "data": {
      "text/plain": [
       "5e-324"
      ]
     },
     "execution_count": 58,
     "metadata": {},
     "output_type": "execute_result"
    }
   ],
   "source": [
    "smallest_double()"
   ]
  },
  {
   "cell_type": "code",
   "execution_count": 49,
   "id": "66736f35",
   "metadata": {},
   "outputs": [],
   "source": [
    "def largest_single():\n",
    "    \n",
    "    fbits = 23\n",
    "    ebits = 8\n",
    "    \n",
    "    ret = bin((2**ebits)-2)[2:] # compute exponent into string\n",
    "    ret = \"0\" + ret + \"1\"*fbits # \"bitshift\" exponent to right place and pad with 1s\n",
    "    \n",
    "    return string_to_float(ret)"
   ]
  },
  {
   "cell_type": "code",
   "execution_count": 50,
   "id": "db2be868",
   "metadata": {},
   "outputs": [
    {
     "data": {
      "text/plain": [
       "3.4028235e+38"
      ]
     },
     "execution_count": 50,
     "metadata": {},
     "output_type": "execute_result"
    }
   ],
   "source": [
    "largest_single()"
   ]
  },
  {
   "cell_type": "code",
   "execution_count": 59,
   "id": "aa77365f",
   "metadata": {},
   "outputs": [],
   "source": [
    "def smallest_single():\n",
    "    \n",
    "    nbyte = 4\n",
    "    \n",
    "    ret = \"0\"*(nbyte*8-1) + \"1\" # all 0s except the LSB\n",
    "    \n",
    "    return string_to_float(ret)"
   ]
  },
  {
   "cell_type": "code",
   "execution_count": 60,
   "id": "44183f45",
   "metadata": {},
   "outputs": [
    {
     "data": {
      "text/plain": [
       "1e-45"
      ]
     },
     "execution_count": 60,
     "metadata": {},
     "output_type": "execute_result"
    }
   ],
   "source": [
    "smallest_single()"
   ]
  },
  {
   "cell_type": "code",
   "execution_count": 62,
   "id": "55154c65",
   "metadata": {},
   "outputs": [],
   "source": [
    "def breakdown_float(f, /):\n",
    "    \n",
    "    ret = {\"sign\": None, \"fraction\": None, \"exponent\": None, \"subnormal\": None}\n",
    "    fbits = None\n",
    "    ebits = None\n",
    "    \n",
    "    if type(f) == numpy.float16:\n",
    "        fbits = 10\n",
    "        ebits = 5\n",
    "    \n",
    "    if type(f) == numpy.float32:\n",
    "        fbits = 23\n",
    "        ebits = 8\n",
    "    \n",
    "    if type(f) == numpy.float64:\n",
    "        fbits = 52\n",
    "        ebits = 11\n",
    "\n",
    "    str_f = float_to_string(f)\n",
    "    \n",
    "    ret[\"sign\"] = int(str_f[0], 2)\n",
    "    ret[\"exponent\"] = int(str_f[1:1+ebits], 2)\n",
    "    ret[\"fraction\"] = int(str_f[2+ebits:2+ebits+fbits], 2)\n",
    "    ret[\"subnormal\"] = ret[\"exponent\"] == 0\n",
    "    \n",
    "    return ret"
   ]
  },
  {
   "cell_type": "code",
   "execution_count": 63,
   "id": "d0cbd024",
   "metadata": {},
   "outputs": [
    {
     "name": "stdout",
     "output_type": "stream",
     "text": [
      "{'sign': 0, 'fraction': 1125899906842624, 'exponent': 1024, 'subnormal': False}\n"
     ]
    }
   ],
   "source": [
    "m = numpy.float64(2.5)\n",
    "d = breakdown_float(m)\n",
    "print(d)"
   ]
  },
  {
   "cell_type": "code",
   "execution_count": 64,
   "id": "b692258e",
   "metadata": {},
   "outputs": [],
   "source": [
    "def construct_float(float_parms, /, *, float_type=float, subnormal=False):\n",
    "    \n",
    "    fbits = None\n",
    "    ebits = None\n",
    "    \n",
    "    if float_type == numpy.float16:\n",
    "        fbits = 10\n",
    "        ebits = 5\n",
    "    \n",
    "    if float_type == numpy.float32 or float_type == float:\n",
    "        fbits = 23\n",
    "        ebits = 8\n",
    "    \n",
    "    if float_type == numpy.float64:\n",
    "        fbits = 52\n",
    "        ebits = 11\n",
    "    \n",
    "    sign = float_parms[\"sign\"]\n",
    "    if subnormal:\n",
    "        exponent = 0\n",
    "    else:\n",
    "        exponent = float_parms[\"exponent\"]\n",
    "    fraction = float_parms[\"fraction\"]\n",
    "    \n",
    "    sign = str(sign)\n",
    "    exponent = bin(exponent)[2:]\n",
    "    fraction = bin(fraction)[2:]\n",
    "    \n",
    "    if(len(exponent) > ebits or len(fraction) > fbits):\n",
    "        raise ValueError(\"inconstructible float!\")\n",
    "    \n",
    "    while(len(exponent) < ebits):\n",
    "        exponent = \"0\" + exponent\n",
    "    while(len(fraction) < fbits):\n",
    "        fraction = \"0\" + fraction\n",
    "        \n",
    "    str_f = sign+exponent+fraction\n",
    "    \n",
    "    return string_to_float(str_f)"
   ]
  },
  {
   "cell_type": "code",
   "execution_count": 73,
   "id": "cd9db05e",
   "metadata": {},
   "outputs": [
    {
     "data": {
      "text/plain": [
       "({'sign': 0,\n",
       "  'fraction': 1125899906842624,\n",
       "  'exponent': 1024,\n",
       "  'subnormal': True},\n",
       " 5.562684646268003e-309,\n",
       " numpy.float64)"
      ]
     },
     "execution_count": 73,
     "metadata": {},
     "output_type": "execute_result"
    }
   ],
   "source": [
    "f = {'sign': 0, 'fraction': 1125899906842624, 'exponent': 1024, 'subnormal': True}\n",
    "g = construct_float(f, float_type=numpy.float64, subnormal=True)\n",
    "h = type(g)\n",
    "f, g, h"
   ]
  },
  {
   "cell_type": "code",
   "execution_count": 16,
   "id": "6fc9fdcb",
   "metadata": {},
   "outputs": [],
   "source": [
    "def get_next_float(start_float, /, *, index=1):\n",
    "    \n",
    "    restore_type = False\n",
    "    float_type = type(start_float)\n",
    "    \n",
    "    if(float_type == float):\n",
    "        start_float = numpy.float32(start_float)\n",
    "        restore_type = True\n",
    "    elif(float_type != numpy.float16 and\n",
    "        float_type != numpy.float32 and\n",
    "        float_type != numpy.float64):\n",
    "        raise TypeError(\"wrong start_float type!\", float_type)\n",
    "        \n",
    "    if(index <= 0):\n",
    "        raise ValueError(\"non-positive index!\", index)\n",
    "       \n",
    "    index_type = type(index)\n",
    "    if(index_type != int and\n",
    "      index_type != numpy.intx):\n",
    "        raise TypeError(\"wrong index type!\", index_type)\n",
    "    \n",
    "    str_ret = float_to_string(start_float)\n",
    "    list_ret = list(str_ret)\n",
    "    \n",
    "    while(index > 0):\n",
    "        for i in range(len(list_ret)-1, -1, -1):\n",
    "            if list_ret[i] == \"0\":\n",
    "                list_ret[i] = \"1\"\n",
    "                index -= 1\n",
    "                break\n",
    "            else:\n",
    "                list_ret[i] = \"0\"\n",
    "            \n",
    "    str_ret = \"\".join(list_ret)\n",
    "    ret = string_to_float(str_ret)\n",
    "    \n",
    "    if restore_type:\n",
    "        return float(ret)\n",
    "    else:\n",
    "        return ret"
   ]
  },
  {
   "cell_type": "code",
   "execution_count": 15,
   "id": "4ad33acf",
   "metadata": {},
   "outputs": [
    {
     "ename": "ValueError",
     "evalue": "('non-positive index!', 0)",
     "output_type": "error",
     "traceback": [
      "\u001b[1;31m---------------------------------------------------------------------------\u001b[0m",
      "\u001b[1;31mValueError\u001b[0m                                Traceback (most recent call last)",
      "Cell \u001b[1;32mIn [15], line 1\u001b[0m\n\u001b[1;32m----> 1\u001b[0m get_next_float(\u001b[38;5;241m2.6\u001b[39m, index\u001b[38;5;241m=\u001b[39m\u001b[38;5;241m0\u001b[39m)\n",
      "Cell \u001b[1;32mIn [14], line 15\u001b[0m, in \u001b[0;36mget_next_float\u001b[1;34m(start_float, index)\u001b[0m\n\u001b[0;32m     12\u001b[0m     \u001b[38;5;28;01mraise\u001b[39;00m \u001b[38;5;167;01mTypeError\u001b[39;00m(\u001b[38;5;124m\"\u001b[39m\u001b[38;5;124mwrong type!\u001b[39m\u001b[38;5;124m\"\u001b[39m, float_type)\n\u001b[0;32m     14\u001b[0m \u001b[38;5;28;01mif\u001b[39;00m(index \u001b[38;5;241m<\u001b[39m\u001b[38;5;241m=\u001b[39m \u001b[38;5;241m0\u001b[39m):\n\u001b[1;32m---> 15\u001b[0m     \u001b[38;5;28;01mraise\u001b[39;00m \u001b[38;5;167;01mValueError\u001b[39;00m(\u001b[38;5;124m\"\u001b[39m\u001b[38;5;124mnon-positive index!\u001b[39m\u001b[38;5;124m\"\u001b[39m, index)\n\u001b[0;32m     17\u001b[0m str_ret \u001b[38;5;241m=\u001b[39m float_to_string(start_float)\n\u001b[0;32m     18\u001b[0m list_ret \u001b[38;5;241m=\u001b[39m \u001b[38;5;28mlist\u001b[39m(str_ret)\n",
      "\u001b[1;31mValueError\u001b[0m: ('non-positive index!', 0)"
     ]
    }
   ],
   "source": [
    "get_next_float(2.6, index=0)"
   ]
  },
  {
   "cell_type": "code",
   "execution_count": 175,
   "id": "8b58055b",
   "metadata": {},
   "outputs": [
    {
     "name": "stdout",
     "output_type": "stream",
     "text": [
      "4\n",
      "3\n",
      "2\n",
      "1\n"
     ]
    },
    {
     "ename": "TypeError",
     "evalue": "'str' object does not support item assignment",
     "output_type": "error",
     "traceback": [
      "\u001b[1;31m---------------------------------------------------------------------------\u001b[0m",
      "\u001b[1;31mTypeError\u001b[0m                                 Traceback (most recent call last)",
      "Cell \u001b[1;32mIn [175], line 4\u001b[0m\n\u001b[0;32m      2\u001b[0m \u001b[38;5;28;01mfor\u001b[39;00m i \u001b[38;5;129;01min\u001b[39;00m \u001b[38;5;28mrange\u001b[39m(\u001b[38;5;28mlen\u001b[39m(a)\u001b[38;5;241m-\u001b[39m\u001b[38;5;241m1\u001b[39m, \u001b[38;5;241m-\u001b[39m\u001b[38;5;241m1\u001b[39m, \u001b[38;5;241m-\u001b[39m\u001b[38;5;241m1\u001b[39m):\n\u001b[0;32m      3\u001b[0m     \u001b[38;5;28mprint\u001b[39m(a[i])\n\u001b[1;32m----> 4\u001b[0m a[\u001b[38;5;241m3\u001b[39m] \u001b[38;5;241m=\u001b[39m \u001b[38;5;124m\"\u001b[39m\u001b[38;5;124m5\u001b[39m\u001b[38;5;124m\"\u001b[39m\n",
      "\u001b[1;31mTypeError\u001b[0m: 'str' object does not support item assignment"
     ]
    }
   ],
   "source": [
    "a = \"1234\"\n",
    "for i in range(len(a)-1, -1, -1):\n",
    "    print(a[i])\n",
    "a[3] = \"5\""
   ]
  },
  {
   "cell_type": "code",
   "execution_count": null,
   "id": "b413477e",
   "metadata": {},
   "outputs": [],
   "source": []
  },
  {
   "cell_type": "code",
   "execution_count": 43,
   "id": "0866a350",
   "metadata": {},
   "outputs": [
    {
     "data": {
      "text/plain": [
       "'0b1101000'"
      ]
     },
     "execution_count": 43,
     "metadata": {},
     "output_type": "execute_result"
    }
   ],
   "source": [
    "bin(bytes(numpy.float16(2048))[1])"
   ]
  },
  {
   "cell_type": "code",
   "execution_count": 68,
   "id": "ab05a7a6",
   "metadata": {},
   "outputs": [
    {
     "data": {
      "text/plain": [
       "'0b1101000'"
      ]
     },
     "execution_count": 68,
     "metadata": {},
     "output_type": "execute_result"
    }
   ],
   "source": [
    "a = numpy.float16(2048).tobytes()\n",
    "bin(a[1])"
   ]
  },
  {
   "cell_type": "code",
   "execution_count": 260,
   "id": "49f32a16",
   "metadata": {},
   "outputs": [
    {
     "data": {
      "text/plain": [
       "array([2048.], dtype=float16)"
      ]
     },
     "execution_count": 260,
     "metadata": {},
     "output_type": "execute_result"
    }
   ],
   "source": [
    "numpy.frombuffer(bytes([int(a[1], 2), int(a[0], 2)]), dtype=numpy.float16)"
   ]
  },
  {
   "cell_type": "code",
   "execution_count": 212,
   "id": "9df97f4a",
   "metadata": {},
   "outputs": [
    {
     "data": {
      "text/plain": [
       "20.0"
      ]
     },
     "execution_count": 212,
     "metadata": {},
     "output_type": "execute_result"
    }
   ],
   "source": [
    "numpy.float16(10) * 2"
   ]
  },
  {
   "cell_type": "code",
   "execution_count": 78,
   "id": "705c7068",
   "metadata": {},
   "outputs": [
    {
     "data": {
      "text/plain": [
       "(b'\\x00\\x00\\x80K', array([16777216.], dtype=float32))"
      ]
     },
     "execution_count": 78,
     "metadata": {},
     "output_type": "execute_result"
    }
   ],
   "source": [
    "b = maximum_consecutive_int_value(numpy.float32)\n",
    "c = numpy.frombuffer(b, dtype=numpy.float32)\n",
    "b, c"
   ]
  },
  {
   "cell_type": "code",
   "execution_count": 111,
   "id": "c0bbe03b",
   "metadata": {},
   "outputs": [
    {
     "data": {
      "text/plain": [
       "b'\\x01\\xff'"
      ]
     },
     "execution_count": 111,
     "metadata": {},
     "output_type": "execute_result"
    }
   ],
   "source": [
    "bytes([1,255])"
   ]
  },
  {
   "cell_type": "code",
   "execution_count": 134,
   "id": "87ae775b",
   "metadata": {},
   "outputs": [
    {
     "data": {
      "text/plain": [
       "(65535,\n",
       " '0b1111111111111111',\n",
       " b'\\x00\\x00\\x80K',\n",
       " array([16777216.], dtype=float32))"
      ]
     },
     "execution_count": 134,
     "metadata": {},
     "output_type": "execute_result"
    }
   ],
   "source": [
    "a = int(\"ffff\", 16)\n",
    "b = bin(a)\n",
    "c = bytes(c)[::-1]\n",
    "d = numpy.frombuffer(c, dtype=numpy.float32)\n",
    "a, b, c, d"
   ]
  },
  {
   "cell_type": "code",
   "execution_count": 210,
   "id": "71c72916",
   "metadata": {},
   "outputs": [
    {
     "data": {
      "text/plain": [
       "(26624, '0x0', '0x68', b'\\x00h', 2048.0)"
      ]
     },
     "execution_count": 210,
     "metadata": {},
     "output_type": "execute_result"
    }
   ],
   "source": [
    "a = int(\"0110100000000000\", 2)\n",
    "b = hex(a & 0xff)\n",
    "c = hex(a >> 8)\n",
    "d = bytes([int(b, 16), int(c, 16)])\n",
    "e = numpy.frombuffer(d, dtype=numpy.float16)\n",
    "a, b, c, d, e[0]"
   ]
  },
  {
   "cell_type": "code",
   "execution_count": 159,
   "id": "487ef3b8",
   "metadata": {},
   "outputs": [
    {
     "data": {
      "text/plain": [
       "(b'\\xff{', array([65504.], dtype=float16))"
      ]
     },
     "execution_count": 159,
     "metadata": {},
     "output_type": "execute_result"
    }
   ],
   "source": [
    "b = bytes([int(\"0xff\", 16), int(\"0x7b\", 16)])\n",
    "c = numpy.frombuffer(b, dtype=numpy.float16)\n",
    "b, c"
   ]
  },
  {
   "cell_type": "code",
   "execution_count": 54,
   "id": "respected-buffer",
   "metadata": {},
   "outputs": [
    {
     "data": {
      "text/plain": [
       "(b'\\x00@', array([2.], dtype=float16))"
      ]
     },
     "execution_count": 54,
     "metadata": {},
     "output_type": "execute_result"
    }
   ],
   "source": [
    "import numpy\n",
    "# 0100_0000_0000_0000\n",
    "# 4000\n",
    "b = b'\\x00\\x40'\n",
    "c = numpy.frombuffer(b, numpy.float16)\n",
    "b, c"
   ]
  },
  {
   "cell_type": "code",
   "execution_count": null,
   "id": "852903b1",
   "metadata": {},
   "outputs": [],
   "source": [
    "import numpy\n",
    "# 0100_0110_0000_0000\n",
    "# \n",
    "b = b'\\x00\\x40'\n",
    "c = numpy.frombuffer(b, numpy.float16)\n",
    "b, c"
   ]
  },
  {
   "cell_type": "code",
   "execution_count": 92,
   "id": "official-rating",
   "metadata": {},
   "outputs": [
    {
     "data": {
      "text/plain": [
       "2632.8125"
      ]
     },
     "execution_count": 92,
     "metadata": {},
     "output_type": "execute_result"
    }
   ],
   "source": [
    "674 / 256 * 1000"
   ]
  },
  {
   "cell_type": "code",
   "execution_count": 98,
   "id": "increasing-reflection",
   "metadata": {},
   "outputs": [
    {
     "name": "stdout",
     "output_type": "stream",
     "text": [
      "estimated 8-bit time (nanoseconds): 1000165.9393310547\n",
      "measured 16-bit time (microseconds): 200034.85679626465\n",
      "estimated 8-bit time (nanoseconds): 1980304.7180175781\n",
      "measured 16-bit time (microseconds): 663982.8681945801\n"
     ]
    }
   ],
   "source": [
    "import numpy as np\n",
    "from time import time\n",
    "\n",
    "def estimate_wrap_around():\n",
    "    m = np.array([1], dtype=np.int8)\n",
    "    start = time()\n",
    "    while (m[0] << 0) > 0:\n",
    "        m[0] += 1\n",
    "    print(\"estimated 8-bit time (nanoseconds):\", (time()-start)*1e9)\n",
    "    \n",
    "    m = np.array([1], dtype=np.int16)\n",
    "    start = time()\n",
    "    while (m[0] << 0) > 0:\n",
    "        m[0] += 1\n",
    "    print(\"measured 16-bit time (microseconds):\", (time()-start)*1e6)\n",
    "    \n",
    "estimate_wrap_around()\n",
    "\n",
    "def estimate_wrap_around():\n",
    "    m = np.array([1], dtype=np.int8)\n",
    "    start = time()\n",
    "    while (m[0] << 1) > 0:\n",
    "        m[0] += 1\n",
    "    print(\"estimated 8-bit time (nanoseconds):\", (time()-start)*2e9)\n",
    "    \n",
    "    m = np.array([1], dtype=np.int16)\n",
    "    start = time()\n",
    "    while (m[0] << 1) > 0:\n",
    "        m[0] += 1\n",
    "    print(\"measured 16-bit time (microseconds):\", (time()-start)*2e6)\n",
    "    \n",
    "estimate_wrap_around()"
   ]
  },
  {
   "cell_type": "code",
   "execution_count": 35,
   "id": "4057613f",
   "metadata": {},
   "outputs": [
    {
     "data": {
      "text/plain": [
       "[1.0,\n",
       " 0.5,\n",
       " 0.25,\n",
       " 0.125,\n",
       " 0.0625,\n",
       " 0.03125,\n",
       " 0.015625,\n",
       " 0.0078125,\n",
       " 0.00390625,\n",
       " 0.001953125,\n",
       " 0.0009765625]"
      ]
     },
     "execution_count": 35,
     "metadata": {},
     "output_type": "execute_result"
    }
   ],
   "source": [
    "digits = []\n",
    "for i in range(0, 11):\n",
    "    digits.append(1/(2**i))\n",
    "digits"
   ]
  },
  {
   "cell_type": "code",
   "execution_count": 72,
   "id": "fdfd8d94",
   "metadata": {},
   "outputs": [],
   "source": [
    "def is_precise_float16(arg):\n",
    "    \n",
    "    num_fraction_bits = 10\n",
    "    e_max = 15\n",
    "    \n",
    "    digits = []\n",
    "    for i in range(0, num_fraction_bits+1):\n",
    "        digits.append(1/(2**i))\n",
    "    \n",
    "    exponent = 0\n",
    "    while(arg > 1):\n",
    "        arg /= 2\n",
    "        exponent += 1\n",
    "#     print(\"exponent is\", exponent)\n",
    "    if exponent > e_max:\n",
    "        return False\n",
    "    \n",
    "    fraction = 0\n",
    "    for digit in digits:\n",
    "        if arg >= digit:\n",
    "#             print(digit)\n",
    "            arg -= digit\n",
    "            fraction += digit\n",
    "#     print(\"fraction is\", fraction)\n",
    "            \n",
    "#     print(fraction * (2**exponent))\n",
    "            \n",
    "    return (arg == 0)"
   ]
  },
  {
   "cell_type": "code",
   "execution_count": 77,
   "id": "9a8acdc0",
   "metadata": {},
   "outputs": [
    {
     "data": {
      "text/plain": [
       "1025"
      ]
     },
     "execution_count": 77,
     "metadata": {},
     "output_type": "execute_result"
    }
   ],
   "source": [
    "test_num = 1\n",
    "result = True\n",
    "while(result == True):\n",
    "#     print(\"test_num is\", test_num)\n",
    "    result = is_precise_float16(test_num)\n",
    "    test_num += 1\n",
    "#     print(\"\")\n",
    "test_num-1"
   ]
  },
  {
   "cell_type": "code",
   "execution_count": 78,
   "id": "24d0d1e4",
   "metadata": {},
   "outputs": [],
   "source": [
    "def is_precise_float32(arg):\n",
    "    \n",
    "    num_fraction_bits = 23\n",
    "    e_max = 127\n",
    "    \n",
    "    digits = []\n",
    "    for i in range(0, num_fraction_bits+1):\n",
    "        digits.append(1/(2**i))\n",
    "    \n",
    "    exponent = 0\n",
    "    while(arg > 1):\n",
    "        arg /= 2\n",
    "        exponent += 1\n",
    "#     print(\"exponent is\", exponent)\n",
    "    if exponent > e_max:\n",
    "        return False\n",
    "    \n",
    "    fraction = 0\n",
    "    for digit in digits:\n",
    "        if arg >= digit:\n",
    "#             print(digit)\n",
    "            arg -= digit\n",
    "            fraction += digit\n",
    "#     print(\"fraction is\", fraction)\n",
    "            \n",
    "#     print(fraction * (2**exponent))\n",
    "            \n",
    "    return (arg == 0)"
   ]
  },
  {
   "cell_type": "code",
   "execution_count": 92,
   "id": "60f87836",
   "metadata": {},
   "outputs": [
    {
     "data": {
      "text/plain": [
       "False"
      ]
     },
     "execution_count": 92,
     "metadata": {},
     "output_type": "execute_result"
    }
   ],
   "source": [
    "is_precise_float32(2**23+1)"
   ]
  },
  {
   "cell_type": "code",
   "execution_count": 80,
   "id": "dc987cef",
   "metadata": {},
   "outputs": [
    {
     "ename": "KeyboardInterrupt",
     "evalue": "",
     "output_type": "error",
     "traceback": [
      "\u001b[1;31m---------------------------------------------------------------------------\u001b[0m",
      "\u001b[1;31mKeyboardInterrupt\u001b[0m                         Traceback (most recent call last)",
      "Cell \u001b[1;32mIn [80], line 5\u001b[0m\n\u001b[0;32m      2\u001b[0m result \u001b[38;5;241m=\u001b[39m \u001b[38;5;28;01mTrue\u001b[39;00m\n\u001b[0;32m      3\u001b[0m \u001b[38;5;28;01mwhile\u001b[39;00m(result \u001b[38;5;241m==\u001b[39m \u001b[38;5;28;01mTrue\u001b[39;00m):\n\u001b[0;32m      4\u001b[0m \u001b[38;5;66;03m#     print(\"test_num is\", test_num)\u001b[39;00m\n\u001b[1;32m----> 5\u001b[0m     result \u001b[38;5;241m=\u001b[39m is_precise_float32(test_num)\n\u001b[0;32m      6\u001b[0m     test_num \u001b[38;5;241m+\u001b[39m\u001b[38;5;241m=\u001b[39m \u001b[38;5;241m1\u001b[39m\n\u001b[0;32m      7\u001b[0m \u001b[38;5;66;03m#     print(\"\")\u001b[39;00m\n",
      "Cell \u001b[1;32mIn [78], line 11\u001b[0m, in \u001b[0;36mis_precise_float32\u001b[1;34m(arg)\u001b[0m\n\u001b[0;32m      8\u001b[0m     digits\u001b[38;5;241m.\u001b[39mappend(\u001b[38;5;241m1\u001b[39m\u001b[38;5;241m/\u001b[39m(\u001b[38;5;241m2\u001b[39m\u001b[38;5;241m*\u001b[39m\u001b[38;5;241m*\u001b[39mi))\n\u001b[0;32m     10\u001b[0m exponent \u001b[38;5;241m=\u001b[39m \u001b[38;5;241m0\u001b[39m\n\u001b[1;32m---> 11\u001b[0m \u001b[38;5;28;01mwhile\u001b[39;00m(\u001b[43marg\u001b[49m\u001b[43m \u001b[49m\u001b[38;5;241;43m>\u001b[39;49m\u001b[43m \u001b[49m\u001b[38;5;241;43m1\u001b[39;49m):\n\u001b[0;32m     12\u001b[0m     arg \u001b[38;5;241m/\u001b[39m\u001b[38;5;241m=\u001b[39m \u001b[38;5;241m2\u001b[39m\n\u001b[0;32m     13\u001b[0m     exponent \u001b[38;5;241m+\u001b[39m\u001b[38;5;241m=\u001b[39m \u001b[38;5;241m1\u001b[39m\n",
      "\u001b[1;31mKeyboardInterrupt\u001b[0m: "
     ]
    }
   ],
   "source": [
    "test_num = 1\n",
    "result = True\n",
    "while(result == True):\n",
    "#     print(\"test_num is\", test_num)\n",
    "    result = is_precise_float32(test_num)\n",
    "    test_num += 1\n",
    "#     print(\"\")\n",
    "test_num-1"
   ]
  },
  {
   "cell_type": "code",
   "execution_count": 32,
   "id": "8e3752f8",
   "metadata": {},
   "outputs": [
    {
     "name": "stdout",
     "output_type": "stream",
     "text": [
      "197121\n",
      "66051\n"
     ]
    },
    {
     "data": {
      "text/plain": [
       "(66051, 197121)"
      ]
     },
     "execution_count": 32,
     "metadata": {},
     "output_type": "execute_result"
    }
   ],
   "source": [
    "barray = b'\\x01\\x02\\x03'\n",
    "b_little = int.from_bytes(barray, byteorder=\"little\")\n",
    "b_big = int.from_bytes(barray, byteorder=\"big\")\n",
    "\n",
    "print(b_little)\n",
    "print(b_big)\n",
    "\n",
    "0x010203, 0x030201"
   ]
  },
  {
   "cell_type": "code",
   "execution_count": null,
   "id": "a6cadac4",
   "metadata": {},
   "outputs": [],
   "source": [
    "# 2.5 is 2097152 fraction and 128 exponent\n",
    "# binary to float 32 representation\n",
    "x = 0b0100_0000_0010_0000_0000_0000_0000_0000\n",
    "\n",
    "print(x.to_bytes(length=4, ))"
   ]
  },
  {
   "cell_type": "code",
   "execution_count": 118,
   "id": "24b69662",
   "metadata": {},
   "outputs": [
    {
     "data": {
      "text/plain": [
       "252644103"
      ]
     },
     "execution_count": 118,
     "metadata": {},
     "output_type": "execute_result"
    }
   ],
   "source": [
    "0b0111_1011_1111_1111\n",
    "byte_array = b'\\x07\\x0b\\x0f\\x0f'\n",
    "int.from_bytes(byte_array, byteorder=\"little\")"
   ]
  },
  {
   "cell_type": "code",
   "execution_count": 50,
   "id": "3a780a12",
   "metadata": {},
   "outputs": [
    {
     "data": {
      "text/plain": [
       "(b'\\x07\\x0b\\x0f\\x0f', array([0.0002145, 0.0004308], dtype=float16))"
      ]
     },
     "execution_count": 50,
     "metadata": {},
     "output_type": "execute_result"
    }
   ],
   "source": [
    "# a = numpy.float16(67)\n",
    "# b = a.tobytes()\n",
    "b = b'\\x07\\x0b\\x0f\\x0f'\n",
    "c = np.frombuffer(b, dtype=np.float16)\n",
    "b, c"
   ]
  },
  {
   "cell_type": "code",
   "execution_count": 7,
   "id": "009131ab",
   "metadata": {},
   "outputs": [
    {
     "data": {
      "text/plain": [
       "(2048.0, b'\\x00h', array([2048.], dtype=float16))"
      ]
     },
     "execution_count": 7,
     "metadata": {},
     "output_type": "execute_result"
    }
   ],
   "source": [
    "a = np.float16(2048)\n",
    "b = a.tobytes()\n",
    "c = np.frombuffer(b, dtype=np.float16)\n",
    "a, b, c"
   ]
  },
  {
   "cell_type": "code",
   "execution_count": 10,
   "id": "6116c1ab",
   "metadata": {},
   "outputs": [
    {
     "name": "stdout",
     "output_type": "stream",
     "text": [
      "Help on class bytes in module builtins:\n",
      "\n",
      "class bytes(object)\n",
      " |  bytes(iterable_of_ints) -> bytes\n",
      " |  bytes(string, encoding[, errors]) -> bytes\n",
      " |  bytes(bytes_or_buffer) -> immutable copy of bytes_or_buffer\n",
      " |  bytes(int) -> bytes object of size given by the parameter initialized with null bytes\n",
      " |  bytes() -> empty bytes object\n",
      " |  \n",
      " |  Construct an immutable array of bytes from:\n",
      " |    - an iterable yielding integers in range(256)\n",
      " |    - a text string encoded using the specified encoding\n",
      " |    - any object implementing the buffer API.\n",
      " |    - an integer\n",
      " |  \n",
      " |  Methods defined here:\n",
      " |  \n",
      " |  __add__(self, value, /)\n",
      " |      Return self+value.\n",
      " |  \n",
      " |  __contains__(self, key, /)\n",
      " |      Return key in self.\n",
      " |  \n",
      " |  __eq__(self, value, /)\n",
      " |      Return self==value.\n",
      " |  \n",
      " |  __ge__(self, value, /)\n",
      " |      Return self>=value.\n",
      " |  \n",
      " |  __getattribute__(self, name, /)\n",
      " |      Return getattr(self, name).\n",
      " |  \n",
      " |  __getitem__(self, key, /)\n",
      " |      Return self[key].\n",
      " |  \n",
      " |  __getnewargs__(...)\n",
      " |  \n",
      " |  __gt__(self, value, /)\n",
      " |      Return self>value.\n",
      " |  \n",
      " |  __hash__(self, /)\n",
      " |      Return hash(self).\n",
      " |  \n",
      " |  __iter__(self, /)\n",
      " |      Implement iter(self).\n",
      " |  \n",
      " |  __le__(self, value, /)\n",
      " |      Return self<=value.\n",
      " |  \n",
      " |  __len__(self, /)\n",
      " |      Return len(self).\n",
      " |  \n",
      " |  __lt__(self, value, /)\n",
      " |      Return self<value.\n",
      " |  \n",
      " |  __mod__(self, value, /)\n",
      " |      Return self%value.\n",
      " |  \n",
      " |  __mul__(self, value, /)\n",
      " |      Return self*value.\n",
      " |  \n",
      " |  __ne__(self, value, /)\n",
      " |      Return self!=value.\n",
      " |  \n",
      " |  __repr__(self, /)\n",
      " |      Return repr(self).\n",
      " |  \n",
      " |  __rmod__(self, value, /)\n",
      " |      Return value%self.\n",
      " |  \n",
      " |  __rmul__(self, value, /)\n",
      " |      Return value*self.\n",
      " |  \n",
      " |  __str__(self, /)\n",
      " |      Return str(self).\n",
      " |  \n",
      " |  capitalize(...)\n",
      " |      B.capitalize() -> copy of B\n",
      " |      \n",
      " |      Return a copy of B with only its first character capitalized (ASCII)\n",
      " |      and the rest lower-cased.\n",
      " |  \n",
      " |  center(self, width, fillchar=b' ', /)\n",
      " |      Return a centered string of length width.\n",
      " |      \n",
      " |      Padding is done using the specified fill character.\n",
      " |  \n",
      " |  count(...)\n",
      " |      B.count(sub[, start[, end]]) -> int\n",
      " |      \n",
      " |      Return the number of non-overlapping occurrences of subsection sub in\n",
      " |      bytes B[start:end].  Optional arguments start and end are interpreted\n",
      " |      as in slice notation.\n",
      " |  \n",
      " |  decode(self, /, encoding='utf-8', errors='strict')\n",
      " |      Decode the bytes using the codec registered for encoding.\n",
      " |      \n",
      " |      encoding\n",
      " |        The encoding with which to decode the bytes.\n",
      " |      errors\n",
      " |        The error handling scheme to use for the handling of decoding errors.\n",
      " |        The default is 'strict' meaning that decoding errors raise a\n",
      " |        UnicodeDecodeError. Other possible values are 'ignore' and 'replace'\n",
      " |        as well as any other name registered with codecs.register_error that\n",
      " |        can handle UnicodeDecodeErrors.\n",
      " |  \n",
      " |  endswith(...)\n",
      " |      B.endswith(suffix[, start[, end]]) -> bool\n",
      " |      \n",
      " |      Return True if B ends with the specified suffix, False otherwise.\n",
      " |      With optional start, test B beginning at that position.\n",
      " |      With optional end, stop comparing B at that position.\n",
      " |      suffix can also be a tuple of bytes to try.\n",
      " |  \n",
      " |  expandtabs(self, /, tabsize=8)\n",
      " |      Return a copy where all tab characters are expanded using spaces.\n",
      " |      \n",
      " |      If tabsize is not given, a tab size of 8 characters is assumed.\n",
      " |  \n",
      " |  find(...)\n",
      " |      B.find(sub[, start[, end]]) -> int\n",
      " |      \n",
      " |      Return the lowest index in B where subsection sub is found,\n",
      " |      such that sub is contained within B[start,end].  Optional\n",
      " |      arguments start and end are interpreted as in slice notation.\n",
      " |      \n",
      " |      Return -1 on failure.\n",
      " |  \n",
      " |  hex(...)\n",
      " |      Create a string of hexadecimal numbers from a bytes object.\n",
      " |      \n",
      " |        sep\n",
      " |          An optional single character or byte to separate hex bytes.\n",
      " |        bytes_per_sep\n",
      " |          How many bytes between separators.  Positive values count from the\n",
      " |          right, negative values count from the left.\n",
      " |      \n",
      " |      Example:\n",
      " |      >>> value = b'\\xb9\\x01\\xef'\n",
      " |      >>> value.hex()\n",
      " |      'b901ef'\n",
      " |      >>> value.hex(':')\n",
      " |      'b9:01:ef'\n",
      " |      >>> value.hex(':', 2)\n",
      " |      'b9:01ef'\n",
      " |      >>> value.hex(':', -2)\n",
      " |      'b901:ef'\n",
      " |  \n",
      " |  index(...)\n",
      " |      B.index(sub[, start[, end]]) -> int\n",
      " |      \n",
      " |      Return the lowest index in B where subsection sub is found,\n",
      " |      such that sub is contained within B[start,end].  Optional\n",
      " |      arguments start and end are interpreted as in slice notation.\n",
      " |      \n",
      " |      Raises ValueError when the subsection is not found.\n",
      " |  \n",
      " |  isalnum(...)\n",
      " |      B.isalnum() -> bool\n",
      " |      \n",
      " |      Return True if all characters in B are alphanumeric\n",
      " |      and there is at least one character in B, False otherwise.\n",
      " |  \n",
      " |  isalpha(...)\n",
      " |      B.isalpha() -> bool\n",
      " |      \n",
      " |      Return True if all characters in B are alphabetic\n",
      " |      and there is at least one character in B, False otherwise.\n",
      " |  \n",
      " |  isascii(...)\n",
      " |      B.isascii() -> bool\n",
      " |      \n",
      " |      Return True if B is empty or all characters in B are ASCII,\n",
      " |      False otherwise.\n",
      " |  \n",
      " |  isdigit(...)\n",
      " |      B.isdigit() -> bool\n",
      " |      \n",
      " |      Return True if all characters in B are digits\n",
      " |      and there is at least one character in B, False otherwise.\n",
      " |  \n",
      " |  islower(...)\n",
      " |      B.islower() -> bool\n",
      " |      \n",
      " |      Return True if all cased characters in B are lowercase and there is\n",
      " |      at least one cased character in B, False otherwise.\n",
      " |  \n",
      " |  isspace(...)\n",
      " |      B.isspace() -> bool\n",
      " |      \n",
      " |      Return True if all characters in B are whitespace\n",
      " |      and there is at least one character in B, False otherwise.\n",
      " |  \n",
      " |  istitle(...)\n",
      " |      B.istitle() -> bool\n",
      " |      \n",
      " |      Return True if B is a titlecased string and there is at least one\n",
      " |      character in B, i.e. uppercase characters may only follow uncased\n",
      " |      characters and lowercase characters only cased ones. Return False\n",
      " |      otherwise.\n",
      " |  \n",
      " |  isupper(...)\n",
      " |      B.isupper() -> bool\n",
      " |      \n",
      " |      Return True if all cased characters in B are uppercase and there is\n",
      " |      at least one cased character in B, False otherwise.\n",
      " |  \n",
      " |  join(self, iterable_of_bytes, /)\n",
      " |      Concatenate any number of bytes objects.\n",
      " |      \n",
      " |      The bytes whose method is called is inserted in between each pair.\n",
      " |      \n",
      " |      The result is returned as a new bytes object.\n",
      " |      \n",
      " |      Example: b'.'.join([b'ab', b'pq', b'rs']) -> b'ab.pq.rs'.\n",
      " |  \n",
      " |  ljust(self, width, fillchar=b' ', /)\n",
      " |      Return a left-justified string of length width.\n",
      " |      \n",
      " |      Padding is done using the specified fill character.\n",
      " |  \n",
      " |  lower(...)\n",
      " |      B.lower() -> copy of B\n",
      " |      \n",
      " |      Return a copy of B with all ASCII characters converted to lowercase.\n",
      " |  \n",
      " |  lstrip(self, bytes=None, /)\n",
      " |      Strip leading bytes contained in the argument.\n",
      " |      \n",
      " |      If the argument is omitted or None, strip leading  ASCII whitespace.\n",
      " |  \n",
      " |  partition(self, sep, /)\n",
      " |      Partition the bytes into three parts using the given separator.\n",
      " |      \n",
      " |      This will search for the separator sep in the bytes. If the separator is found,\n",
      " |      returns a 3-tuple containing the part before the separator, the separator\n",
      " |      itself, and the part after it.\n",
      " |      \n",
      " |      If the separator is not found, returns a 3-tuple containing the original bytes\n",
      " |      object and two empty bytes objects.\n",
      " |  \n",
      " |  removeprefix(self, prefix, /)\n",
      " |      Return a bytes object with the given prefix string removed if present.\n",
      " |      \n",
      " |      If the bytes starts with the prefix string, return bytes[len(prefix):].\n",
      " |      Otherwise, return a copy of the original bytes.\n",
      " |  \n",
      " |  removesuffix(self, suffix, /)\n",
      " |      Return a bytes object with the given suffix string removed if present.\n",
      " |      \n",
      " |      If the bytes ends with the suffix string and that suffix is not empty,\n",
      " |      return bytes[:-len(prefix)].  Otherwise, return a copy of the original\n",
      " |      bytes.\n",
      " |  \n",
      " |  replace(self, old, new, count=-1, /)\n",
      " |      Return a copy with all occurrences of substring old replaced by new.\n",
      " |      \n",
      " |        count\n",
      " |          Maximum number of occurrences to replace.\n",
      " |          -1 (the default value) means replace all occurrences.\n",
      " |      \n",
      " |      If the optional argument count is given, only the first count occurrences are\n",
      " |      replaced.\n",
      " |  \n",
      " |  rfind(...)\n",
      " |      B.rfind(sub[, start[, end]]) -> int\n",
      " |      \n",
      " |      Return the highest index in B where subsection sub is found,\n",
      " |      such that sub is contained within B[start,end].  Optional\n",
      " |      arguments start and end are interpreted as in slice notation.\n",
      " |      \n",
      " |      Return -1 on failure.\n",
      " |  \n",
      " |  rindex(...)\n",
      " |      B.rindex(sub[, start[, end]]) -> int\n",
      " |      \n",
      " |      Return the highest index in B where subsection sub is found,\n",
      " |      such that sub is contained within B[start,end].  Optional\n",
      " |      arguments start and end are interpreted as in slice notation.\n",
      " |      \n",
      " |      Raise ValueError when the subsection is not found.\n",
      " |  \n",
      " |  rjust(self, width, fillchar=b' ', /)\n",
      " |      Return a right-justified string of length width.\n",
      " |      \n",
      " |      Padding is done using the specified fill character.\n",
      " |  \n",
      " |  rpartition(self, sep, /)\n",
      " |      Partition the bytes into three parts using the given separator.\n",
      " |      \n",
      " |      This will search for the separator sep in the bytes, starting at the end. If\n",
      " |      the separator is found, returns a 3-tuple containing the part before the\n",
      " |      separator, the separator itself, and the part after it.\n",
      " |      \n",
      " |      If the separator is not found, returns a 3-tuple containing two empty bytes\n",
      " |      objects and the original bytes object.\n",
      " |  \n",
      " |  rsplit(self, /, sep=None, maxsplit=-1)\n",
      " |      Return a list of the sections in the bytes, using sep as the delimiter.\n",
      " |      \n",
      " |        sep\n",
      " |          The delimiter according which to split the bytes.\n",
      " |          None (the default value) means split on ASCII whitespace characters\n",
      " |          (space, tab, return, newline, formfeed, vertical tab).\n",
      " |        maxsplit\n",
      " |          Maximum number of splits to do.\n",
      " |          -1 (the default value) means no limit.\n",
      " |      \n",
      " |      Splitting is done starting at the end of the bytes and working to the front.\n",
      " |  \n",
      " |  rstrip(self, bytes=None, /)\n",
      " |      Strip trailing bytes contained in the argument.\n",
      " |      \n",
      " |      If the argument is omitted or None, strip trailing ASCII whitespace.\n",
      " |  \n",
      " |  split(self, /, sep=None, maxsplit=-1)\n",
      " |      Return a list of the sections in the bytes, using sep as the delimiter.\n",
      " |      \n",
      " |      sep\n",
      " |        The delimiter according which to split the bytes.\n",
      " |        None (the default value) means split on ASCII whitespace characters\n",
      " |        (space, tab, return, newline, formfeed, vertical tab).\n",
      " |      maxsplit\n",
      " |        Maximum number of splits to do.\n",
      " |        -1 (the default value) means no limit.\n",
      " |  \n",
      " |  splitlines(self, /, keepends=False)\n",
      " |      Return a list of the lines in the bytes, breaking at line boundaries.\n",
      " |      \n",
      " |      Line breaks are not included in the resulting list unless keepends is given and\n",
      " |      true.\n",
      " |  \n",
      " |  startswith(...)\n",
      " |      B.startswith(prefix[, start[, end]]) -> bool\n",
      " |      \n",
      " |      Return True if B starts with the specified prefix, False otherwise.\n",
      " |      With optional start, test B beginning at that position.\n",
      " |      With optional end, stop comparing B at that position.\n",
      " |      prefix can also be a tuple of bytes to try.\n",
      " |  \n",
      " |  strip(self, bytes=None, /)\n",
      " |      Strip leading and trailing bytes contained in the argument.\n",
      " |      \n",
      " |      If the argument is omitted or None, strip leading and trailing ASCII whitespace.\n",
      " |  \n",
      " |  swapcase(...)\n",
      " |      B.swapcase() -> copy of B\n",
      " |      \n",
      " |      Return a copy of B with uppercase ASCII characters converted\n",
      " |      to lowercase ASCII and vice versa.\n",
      " |  \n",
      " |  title(...)\n",
      " |      B.title() -> copy of B\n",
      " |      \n",
      " |      Return a titlecased version of B, i.e. ASCII words start with uppercase\n",
      " |      characters, all remaining cased characters have lowercase.\n",
      " |  \n",
      " |  translate(self, table, /, delete=b'')\n",
      " |      Return a copy with each character mapped by the given translation table.\n",
      " |      \n",
      " |        table\n",
      " |          Translation table, which must be a bytes object of length 256.\n",
      " |      \n",
      " |      All characters occurring in the optional argument delete are removed.\n",
      " |      The remaining characters are mapped through the given translation table.\n",
      " |  \n",
      " |  upper(...)\n",
      " |      B.upper() -> copy of B\n",
      " |      \n",
      " |      Return a copy of B with all ASCII characters converted to uppercase.\n",
      " |  \n",
      " |  zfill(self, width, /)\n",
      " |      Pad a numeric string with zeros on the left, to fill a field of the given width.\n",
      " |      \n",
      " |      The original string is never truncated.\n",
      " |  \n",
      " |  ----------------------------------------------------------------------\n",
      " |  Class methods defined here:\n",
      " |  \n",
      " |  fromhex(string, /) from builtins.type\n",
      " |      Create a bytes object from a string of hexadecimal numbers.\n",
      " |      \n",
      " |      Spaces between two numbers are accepted.\n",
      " |      Example: bytes.fromhex('B9 01EF') -> b'\\\\xb9\\\\x01\\\\xef'.\n",
      " |  \n",
      " |  ----------------------------------------------------------------------\n",
      " |  Static methods defined here:\n",
      " |  \n",
      " |  __new__(*args, **kwargs) from builtins.type\n",
      " |      Create and return a new object.  See help(type) for accurate signature.\n",
      " |  \n",
      " |  maketrans(frm, to, /)\n",
      " |      Return a translation table useable for the bytes or bytearray translate method.\n",
      " |      \n",
      " |      The returned table will be one where each byte in frm is mapped to the byte at\n",
      " |      the same position in to.\n",
      " |      \n",
      " |      The bytes objects frm and to must be of the same length.\n",
      "\n"
     ]
    }
   ],
   "source": [
    "help(bytes)"
   ]
  },
  {
   "cell_type": "code",
   "execution_count": 42,
   "id": "32a0c7ab",
   "metadata": {},
   "outputs": [
    {
     "data": {
      "text/plain": [
       "(b'\\x00\\x80', array([-0.], dtype=float16))"
      ]
     },
     "execution_count": 42,
     "metadata": {},
     "output_type": "execute_result"
    }
   ],
   "source": [
    "b = b'\\x00\\x80'\n",
    "c = np.frombuffer(b, dtype=np.float16)\n",
    "b, c"
   ]
  },
  {
   "cell_type": "code",
   "execution_count": 47,
   "id": "5f57d651",
   "metadata": {},
   "outputs": [
    {
     "data": {
      "text/plain": [
       "(b'{\\xff', array([nan], dtype=float16))"
      ]
     },
     "execution_count": 47,
     "metadata": {},
     "output_type": "execute_result"
    }
   ],
   "source": [
    "b = b'\\x7b\\xff'\n",
    "b[::-1]\n",
    "c = np.frombuffer(b, dtype=np.float16)\n",
    "b, c"
   ]
  },
  {
   "cell_type": "code",
   "execution_count": null,
   "id": "c79c36a3",
   "metadata": {},
   "outputs": [],
   "source": [
    "def binary_to_float16(arg):\n",
    "    \n",
    "    sign = (arg & 0b1000_0000_0000_0000) >> 15\n",
    "    expo = (arg & 0b0111_1100_0000_0000) >> 10\n",
    "    frac = (arg & 0b0000_0011_1111_1111)\n",
    "    \n",
    "    real_frac = 0;\n",
    "    for i in range(10):\n",
    "        real_frac += (frac & 0b1)\n",
    "        real_frac /= 2\n",
    "        frac = frac >> 1\n",
    "    \n",
    "    return (sign*-2+1) * (2**(expo-15)) * (1+real_frac)"
   ]
  }
 ],
 "metadata": {
  "kernelspec": {
   "display_name": "Python 3 (ipykernel)",
   "language": "python",
   "name": "python3"
  },
  "language_info": {
   "codemirror_mode": {
    "name": "ipython",
    "version": 3
   },
   "file_extension": ".py",
   "mimetype": "text/x-python",
   "name": "python",
   "nbconvert_exporter": "python",
   "pygments_lexer": "ipython3",
   "version": "3.10.4"
  }
 },
 "nbformat": 4,
 "nbformat_minor": 5
}
