{
 "cells": [
  {
   "cell_type": "code",
   "execution_count": 28,
   "id": "directed-spray",
   "metadata": {},
   "outputs": [],
   "source": [
    "import numpy as np\n",
    "\n",
    "def show_integer_properties():\n",
    "    Table = \"{:<6} {:<22} {:<22} {:<22}\"\n",
    "    print(Table.format(\"Bytes\",\"Largest Unsigned Int\",\"Minimum Signed Int\",\"Maximum Signed Int\"))\n",
    "    \n",
    "    for ii in range(1, 9):\n",
    "        int_largest_unsigned_int = 2**(8*ii)-1\n",
    "        int_minimum_signed_int = -(int_largest_unsigned_int+1 >> 1)\n",
    "        int_maximum_signed_int = (int_largest_unsigned_int-1) >> 1\n",
    "        print(Table.format(str(ii), str(int_largest_unsigned_int), str(int_minimum_signed_int), str(int_maximum_signed_int)))"
   ]
  },
  {
   "cell_type": "code",
   "execution_count": 29,
   "id": "appropriate-exercise",
   "metadata": {},
   "outputs": [
    {
     "name": "stdout",
     "output_type": "stream",
     "text": [
      "Bytes  Largest Unsigned Int   Minimum Signed Int     Maximum Signed Int    \n",
      "1      255                    -128                   127                   \n",
      "2      65535                  -32768                 32767                 \n",
      "3      16777215               -8388608               8388607               \n",
      "4      4294967295             -2147483648            2147483647            \n",
      "5      1099511627775          -549755813888          549755813887          \n",
      "6      281474976710655        -140737488355328       140737488355327       \n",
      "7      72057594037927935      -36028797018963968     36028797018963967     \n",
      "8      18446744073709551615   -9223372036854775808   9223372036854775807   \n"
     ]
    }
   ],
   "source": [
    "show_integer_properties()"
   ]
  },
  {
   "cell_type": "code",
   "execution_count": 88,
   "id": "exciting-peter",
   "metadata": {},
   "outputs": [
    {
     "ename": "TypeError",
     "evalue": "'int' object is not callable",
     "output_type": "error",
     "traceback": [
      "\u001b[1;31m---------------------------------------------------------------------------\u001b[0m",
      "\u001b[1;31mTypeError\u001b[0m                                 Traceback (most recent call last)",
      "\u001b[1;32m<ipython-input-88-d3598535008d>\u001b[0m in \u001b[0;36m<module>\u001b[1;34m\u001b[0m\n\u001b[0;32m      2\u001b[0m \u001b[0mm\u001b[0m \u001b[1;33m=\u001b[0m \u001b[0mnumpy\u001b[0m\u001b[1;33m.\u001b[0m\u001b[0marray\u001b[0m\u001b[1;33m(\u001b[0m\u001b[1;33m[\u001b[0m\u001b[1;36m1\u001b[0m\u001b[1;33m]\u001b[0m\u001b[1;33m,\u001b[0m\u001b[0mdtype\u001b[0m\u001b[1;33m=\u001b[0m \u001b[0mnumpy\u001b[0m\u001b[1;33m.\u001b[0m\u001b[0mint16\u001b[0m\u001b[1;33m)\u001b[0m\u001b[1;33m\u001b[0m\u001b[1;33m\u001b[0m\u001b[0m\n\u001b[0;32m      3\u001b[0m \u001b[1;33m\u001b[0m\u001b[0m\n\u001b[1;32m----> 4\u001b[1;33m \u001b[0mm\u001b[0m\u001b[1;33m.\u001b[0m\u001b[0msize\u001b[0m\u001b[1;33m(\u001b[0m\u001b[1;33m)\u001b[0m\u001b[1;33m\u001b[0m\u001b[1;33m\u001b[0m\u001b[0m\n\u001b[0m",
      "\u001b[1;31mTypeError\u001b[0m: 'int' object is not callable"
     ]
    }
   ],
   "source": [
    "import numpy\n",
    "m = numpy.array([1],dtype= numpy.int16)\n",
    "\n",
    "m.size()"
   ]
  },
  {
   "cell_type": "code",
   "execution_count": 96,
   "id": "pressed-mexican",
   "metadata": {},
   "outputs": [
    {
     "name": "stdout",
     "output_type": "stream",
     "text": [
      "estimated 8-bit time (nanoseconds): 804670.1550483704\n",
      "measured 16-bit time (microseconds): 205995.5596923828\n",
      "estimated 32-bit time (seconds): 13500.125\n",
      "estimated 64-bit time (years): 44126784.90632573\n"
     ]
    }
   ],
   "source": [
    "import numpy as np\n",
    "from time import time\n",
    "\n",
    "def estimate_wrap_around():\n",
    "    \n",
    "    m = np.array([1], dtype=np.int16)\n",
    "    seconds_start = time()\n",
    "    while m[0] > 0:\n",
    "        m[0] += 1\n",
    "    seconds_runtime = time() - seconds_start\n",
    "    str_line1 = \"measured 16-bit time (microseconds): \" + str(seconds_runtime * 1e6)\n",
    "    \n",
    "    str_line0 = \"estimated 8-bit time (nanoseconds): \" + str(seconds_runtime * 2**(8-16) * 1e9)\n",
    "    str_line2 = \"estimated 32-bit time (seconds): \" + str(seconds_runtime * 2**(32-16))\n",
    "    str_line3 = \"estimated 64-bit time (years): \" + str(seconds_runtime * 2**(64-16) /60/60/365)\n",
    "    \n",
    "    print(str_line0)\n",
    "    print(str_line1)\n",
    "    print(str_line2)\n",
    "    print(str_line3)\n",
    "    \n",
    "estimate_wrap_around()"
   ]
  },
  {
   "cell_type": "code",
   "execution_count": 89,
   "id": "respected-buffer",
   "metadata": {},
   "outputs": [
    {
     "data": {
      "text/plain": [
       "256.0"
      ]
     },
     "execution_count": 89,
     "metadata": {},
     "output_type": "execute_result"
    }
   ],
   "source": [
    "2**16 / 2**8"
   ]
  },
  {
   "cell_type": "code",
   "execution_count": 92,
   "id": "official-rating",
   "metadata": {},
   "outputs": [
    {
     "data": {
      "text/plain": [
       "2632.8125"
      ]
     },
     "execution_count": 92,
     "metadata": {},
     "output_type": "execute_result"
    }
   ],
   "source": [
    "674 / 256 * 1000"
   ]
  },
  {
   "cell_type": "code",
   "execution_count": 98,
   "id": "increasing-reflection",
   "metadata": {},
   "outputs": [
    {
     "name": "stdout",
     "output_type": "stream",
     "text": [
      "estimated 8-bit time (nanoseconds): 1000165.9393310547\n",
      "measured 16-bit time (microseconds): 200034.85679626465\n",
      "estimated 8-bit time (nanoseconds): 1980304.7180175781\n",
      "measured 16-bit time (microseconds): 663982.8681945801\n"
     ]
    }
   ],
   "source": [
    "import numpy as np\n",
    "from time import time\n",
    "\n",
    "def estimate_wrap_around():\n",
    "    m = np.array([1], dtype=np.int8)\n",
    "    start = time()\n",
    "    while (m[0] << 0) > 0:\n",
    "        m[0] += 1\n",
    "    print(\"estimated 8-bit time (nanoseconds):\", (time()-start)*1e9)\n",
    "    \n",
    "    m = np.array([1], dtype=np.int16)\n",
    "    start = time()\n",
    "    while (m[0] << 0) > 0:\n",
    "        m[0] += 1\n",
    "    print(\"measured 16-bit time (microseconds):\", (time()-start)*1e6)\n",
    "    \n",
    "estimate_wrap_around()\n",
    "\n",
    "def estimate_wrap_around():\n",
    "    m = np.array([1], dtype=np.int8)\n",
    "    start = time()\n",
    "    while (m[0] << 1) > 0:\n",
    "        m[0] += 1\n",
    "    print(\"estimated 8-bit time (nanoseconds):\", (time()-start)*2e9)\n",
    "    \n",
    "    m = np.array([1], dtype=np.int16)\n",
    "    start = time()\n",
    "    while (m[0] << 1) > 0:\n",
    "        m[0] += 1\n",
    "    print(\"measured 16-bit time (microseconds):\", (time()-start)*2e6)\n",
    "    \n",
    "estimate_wrap_around()"
   ]
  },
  {
   "cell_type": "code",
   "execution_count": 35,
   "id": "4057613f",
   "metadata": {},
   "outputs": [
    {
     "data": {
      "text/plain": [
       "[1.0,\n",
       " 0.5,\n",
       " 0.25,\n",
       " 0.125,\n",
       " 0.0625,\n",
       " 0.03125,\n",
       " 0.015625,\n",
       " 0.0078125,\n",
       " 0.00390625,\n",
       " 0.001953125,\n",
       " 0.0009765625]"
      ]
     },
     "execution_count": 35,
     "metadata": {},
     "output_type": "execute_result"
    }
   ],
   "source": [
    "digits = []\n",
    "for i in range(0, 11):\n",
    "    digits.append(1/(2**i))\n",
    "digits"
   ]
  },
  {
   "cell_type": "code",
   "execution_count": 72,
   "id": "fdfd8d94",
   "metadata": {},
   "outputs": [],
   "source": [
    "def is_precise_float16(arg):\n",
    "    \n",
    "    num_fraction_bits = 10\n",
    "    e_max = 15\n",
    "    \n",
    "    digits = []\n",
    "    for i in range(0, num_fraction_bits+1):\n",
    "        digits.append(1/(2**i))\n",
    "    \n",
    "    exponent = 0\n",
    "    while(arg > 1):\n",
    "        arg /= 2\n",
    "        exponent += 1\n",
    "#     print(\"exponent is\", exponent)\n",
    "    if exponent > e_max:\n",
    "        return False\n",
    "    \n",
    "    fraction = 0\n",
    "    for digit in digits:\n",
    "        if arg >= digit:\n",
    "#             print(digit)\n",
    "            arg -= digit\n",
    "            fraction += digit\n",
    "#     print(\"fraction is\", fraction)\n",
    "            \n",
    "#     print(fraction * (2**exponent))\n",
    "            \n",
    "    return (arg == 0)"
   ]
  },
  {
   "cell_type": "code",
   "execution_count": 77,
   "id": "9a8acdc0",
   "metadata": {},
   "outputs": [
    {
     "data": {
      "text/plain": [
       "1025"
      ]
     },
     "execution_count": 77,
     "metadata": {},
     "output_type": "execute_result"
    }
   ],
   "source": [
    "test_num = 1\n",
    "result = True\n",
    "while(result == True):\n",
    "#     print(\"test_num is\", test_num)\n",
    "    result = is_precise_float16(test_num)\n",
    "    test_num += 1\n",
    "#     print(\"\")\n",
    "test_num-1"
   ]
  },
  {
   "cell_type": "code",
   "execution_count": 86,
   "id": "3a571609",
   "metadata": {},
   "outputs": [],
   "source": [
    "a = numpy.float16(1025)"
   ]
  },
  {
   "cell_type": "code",
   "execution_count": 88,
   "id": "607488b3",
   "metadata": {},
   "outputs": [
    {
     "data": {
      "text/plain": [
       "0.0"
      ]
     },
     "execution_count": 88,
     "metadata": {},
     "output_type": "execute_result"
    }
   ],
   "source": [
    "a - 1025"
   ]
  },
  {
   "cell_type": "code",
   "execution_count": 78,
   "id": "24d0d1e4",
   "metadata": {},
   "outputs": [],
   "source": [
    "def is_precise_float32(arg):\n",
    "    \n",
    "    num_fraction_bits = 23\n",
    "    e_max = 127\n",
    "    \n",
    "    digits = []\n",
    "    for i in range(0, num_fraction_bits+1):\n",
    "        digits.append(1/(2**i))\n",
    "    \n",
    "    exponent = 0\n",
    "    while(arg > 1):\n",
    "        arg /= 2\n",
    "        exponent += 1\n",
    "#     print(\"exponent is\", exponent)\n",
    "    if exponent > e_max:\n",
    "        return False\n",
    "    \n",
    "    fraction = 0\n",
    "    for digit in digits:\n",
    "        if arg >= digit:\n",
    "#             print(digit)\n",
    "            arg -= digit\n",
    "            fraction += digit\n",
    "#     print(\"fraction is\", fraction)\n",
    "            \n",
    "#     print(fraction * (2**exponent))\n",
    "            \n",
    "    return (arg == 0)"
   ]
  },
  {
   "cell_type": "code",
   "execution_count": 92,
   "id": "60f87836",
   "metadata": {},
   "outputs": [
    {
     "data": {
      "text/plain": [
       "False"
      ]
     },
     "execution_count": 92,
     "metadata": {},
     "output_type": "execute_result"
    }
   ],
   "source": [
    "is_precise_float32(2**23+1)"
   ]
  },
  {
   "cell_type": "code",
   "execution_count": 80,
   "id": "dc987cef",
   "metadata": {},
   "outputs": [
    {
     "ename": "KeyboardInterrupt",
     "evalue": "",
     "output_type": "error",
     "traceback": [
      "\u001b[1;31m---------------------------------------------------------------------------\u001b[0m",
      "\u001b[1;31mKeyboardInterrupt\u001b[0m                         Traceback (most recent call last)",
      "Cell \u001b[1;32mIn [80], line 5\u001b[0m\n\u001b[0;32m      2\u001b[0m result \u001b[38;5;241m=\u001b[39m \u001b[38;5;28;01mTrue\u001b[39;00m\n\u001b[0;32m      3\u001b[0m \u001b[38;5;28;01mwhile\u001b[39;00m(result \u001b[38;5;241m==\u001b[39m \u001b[38;5;28;01mTrue\u001b[39;00m):\n\u001b[0;32m      4\u001b[0m \u001b[38;5;66;03m#     print(\"test_num is\", test_num)\u001b[39;00m\n\u001b[1;32m----> 5\u001b[0m     result \u001b[38;5;241m=\u001b[39m is_precise_float32(test_num)\n\u001b[0;32m      6\u001b[0m     test_num \u001b[38;5;241m+\u001b[39m\u001b[38;5;241m=\u001b[39m \u001b[38;5;241m1\u001b[39m\n\u001b[0;32m      7\u001b[0m \u001b[38;5;66;03m#     print(\"\")\u001b[39;00m\n",
      "Cell \u001b[1;32mIn [78], line 11\u001b[0m, in \u001b[0;36mis_precise_float32\u001b[1;34m(arg)\u001b[0m\n\u001b[0;32m      8\u001b[0m     digits\u001b[38;5;241m.\u001b[39mappend(\u001b[38;5;241m1\u001b[39m\u001b[38;5;241m/\u001b[39m(\u001b[38;5;241m2\u001b[39m\u001b[38;5;241m*\u001b[39m\u001b[38;5;241m*\u001b[39mi))\n\u001b[0;32m     10\u001b[0m exponent \u001b[38;5;241m=\u001b[39m \u001b[38;5;241m0\u001b[39m\n\u001b[1;32m---> 11\u001b[0m \u001b[38;5;28;01mwhile\u001b[39;00m(\u001b[43marg\u001b[49m\u001b[43m \u001b[49m\u001b[38;5;241;43m>\u001b[39;49m\u001b[43m \u001b[49m\u001b[38;5;241;43m1\u001b[39;49m):\n\u001b[0;32m     12\u001b[0m     arg \u001b[38;5;241m/\u001b[39m\u001b[38;5;241m=\u001b[39m \u001b[38;5;241m2\u001b[39m\n\u001b[0;32m     13\u001b[0m     exponent \u001b[38;5;241m+\u001b[39m\u001b[38;5;241m=\u001b[39m \u001b[38;5;241m1\u001b[39m\n",
      "\u001b[1;31mKeyboardInterrupt\u001b[0m: "
     ]
    }
   ],
   "source": [
    "test_num = 1\n",
    "result = True\n",
    "while(result == True):\n",
    "#     print(\"test_num is\", test_num)\n",
    "    result = is_precise_float32(test_num)\n",
    "    test_num += 1\n",
    "#     print(\"\")\n",
    "test_num-1"
   ]
  },
  {
   "cell_type": "code",
   "execution_count": 32,
   "id": "8e3752f8",
   "metadata": {},
   "outputs": [
    {
     "name": "stdout",
     "output_type": "stream",
     "text": [
      "197121\n",
      "66051\n"
     ]
    },
    {
     "data": {
      "text/plain": [
       "(66051, 197121)"
      ]
     },
     "execution_count": 32,
     "metadata": {},
     "output_type": "execute_result"
    }
   ],
   "source": [
    "barray = b'\\x01\\x02\\x03'\n",
    "b_little = int.from_bytes(barray, byteorder=\"little\")\n",
    "b_big = int.from_bytes(barray, byteorder=\"big\")\n",
    "\n",
    "print(b_little)\n",
    "print(b_big)\n",
    "\n",
    "0x010203, 0x030201"
   ]
  },
  {
   "cell_type": "code",
   "execution_count": null,
   "id": "a6cadac4",
   "metadata": {},
   "outputs": [],
   "source": [
    "# 2.5 is 2097152 fraction and 128 exponent\n",
    "# binary to float 32 representation\n",
    "x = 0b0100_0000_0010_0000_0000_0000_0000_0000\n",
    "\n",
    "print(x.to_bytes(length=4, ))"
   ]
  },
  {
   "cell_type": "code",
   "execution_count": 118,
   "id": "24b69662",
   "metadata": {},
   "outputs": [
    {
     "data": {
      "text/plain": [
       "252644103"
      ]
     },
     "execution_count": 118,
     "metadata": {},
     "output_type": "execute_result"
    }
   ],
   "source": [
    "0b0111_1011_1111_1111\n",
    "byte_array = b'\\x07\\x0b\\x0f\\x0f'\n",
    "int.from_bytes(byte_array, byteorder=\"little\")"
   ]
  },
  {
   "cell_type": "code",
   "execution_count": 152,
   "id": "3a780a12",
   "metadata": {},
   "outputs": [
    {
     "data": {
      "text/plain": [
       "b'\\xff{'"
      ]
     },
     "execution_count": 152,
     "metadata": {},
     "output_type": "execute_result"
    }
   ],
   "source": [
    "# a = numpy.float16(67)\n",
    "# b = a.tobytes()\n",
    "b = b'\\x07\\x0b\\x0f\\x0f'\n",
    "c = numpy.frombuffer(b, dtype=numpy.float16)\n"
   ]
  },
  {
   "cell_type": "code",
   "execution_count": 163,
   "id": "009131ab",
   "metadata": {},
   "outputs": [
    {
     "data": {
      "text/plain": [
       "(1027.0, b'\\x03d', array([1027.], dtype=float16))"
      ]
     },
     "execution_count": 163,
     "metadata": {},
     "output_type": "execute_result"
    }
   ],
   "source": [
    "a = numpy.float16(1027)\n",
    "b = a.tobytes()\n",
    "c = numpy.frombuffer(b, dtype=numpy.float16)\n",
    "a, b, c"
   ]
  }
 ],
 "metadata": {
  "kernelspec": {
   "display_name": "Python 3 (ipykernel)",
   "language": "python",
   "name": "python3"
  },
  "language_info": {
   "codemirror_mode": {
    "name": "ipython",
    "version": 3
   },
   "file_extension": ".py",
   "mimetype": "text/x-python",
   "name": "python",
   "nbconvert_exporter": "python",
   "pygments_lexer": "ipython3",
   "version": "3.10.4"
  }
 },
 "nbformat": 4,
 "nbformat_minor": 5
}
