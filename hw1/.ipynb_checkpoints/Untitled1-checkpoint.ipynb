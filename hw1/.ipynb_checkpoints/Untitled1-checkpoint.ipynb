{
 "cells": [
  {
   "cell_type": "code",
   "execution_count": 36,
   "id": "resistant-median",
   "metadata": {},
   "outputs": [],
   "source": [
    "def divisorsum(int_x):\n",
    "    list_divisors = [1]\n",
    "    int_sum = 1\n",
    "    \n",
    "    for i in range(2, int_x-1):\n",
    "        if(int_x % i == 0):\n",
    "            list_divisors.append(i)\n",
    "            int_sum += i\n",
    "            \n",
    "    str_y = \"\"\n",
    "    \n",
    "    for divisor in list_divisors:\n",
    "        str_y += str(divisor) + \"+\"\n",
    "    str_y = str_y[:-1]\n",
    "    str_y += \" = \" + str(int_sum)\n",
    "    \n",
    "    return str_y"
   ]
  },
  {
   "cell_type": "code",
   "execution_count": 13,
   "id": "modular-survival",
   "metadata": {},
   "outputs": [],
   "source": [
    "def divisorsum(int_x):\n",
    "    \n",
    "    str_y = \"1\"\n",
    "    int_sum = 1\n",
    "    \n",
    "    for i in range(2, int_x-1):\n",
    "        if(int_x % i == 0):\n",
    "            str_y += \"+\" + str(i)\n",
    "            int_sum += i\n",
    "            \n",
    "    str_y += \" = \" + str(int_sum)\n",
    "    \n",
    "    return str_y"
   ]
  },
  {
   "cell_type": "code",
   "execution_count": 31,
   "id": "strong-slovakia",
   "metadata": {},
   "outputs": [],
   "source": [
    "def convertbase(str_x, int_oldBase, int_newBase):\n",
    "    \n",
    "    int_val = 0\n",
    "    \n",
    "    for str_digit in str_x:\n",
    "        int_val *= int_oldBase\n",
    "        int_val += ord(str_digit) - ord(\"0\")\n",
    "        \n",
    "    str_y = \"\"\n",
    "        \n",
    "    while(1):\n",
    "        int_remainder = int_val % int_newBase\n",
    "        str_y = chr(int_remainder + ord(\"0\")) + str_y\n",
    "        int_val = int_val // int_newBase\n",
    "        if(int_val < int_newBase):\n",
    "            str_y = chr(int_val + ord(\"0\")) + str_y\n",
    "            break\n",
    "    \n",
    "    return str_y"
   ]
  },
  {
   "cell_type": "code",
   "execution_count": 32,
   "id": "structural-brain",
   "metadata": {},
   "outputs": [
    {
     "name": "stdout",
     "output_type": "stream",
     "text": [
      "9\n",
      "41\n",
      "30\n"
     ]
    },
    {
     "data": {
      "text/plain": [
       "'8NY9'"
      ]
     },
     "execution_count": 32,
     "metadata": {},
     "output_type": "execute_result"
    }
   ],
   "source": [
    "convertbase('4291289', 10, 80)"
   ]
  },
  {
   "cell_type": "code",
   "execution_count": 33,
   "id": "august-viking",
   "metadata": {},
   "outputs": [
    {
     "name": "stdout",
     "output_type": "stream",
     "text": [
      "89\n",
      "56\n"
     ]
    },
    {
     "data": {
      "text/plain": [
       "'\\x9bh\\x89'"
      ]
     },
     "execution_count": 33,
     "metadata": {},
     "output_type": "execute_result"
    }
   ],
   "source": [
    "convertbase('4291289', 10, 200)"
   ]
  },
  {
   "cell_type": "code",
   "execution_count": 29,
   "id": "descending-philippines",
   "metadata": {},
   "outputs": [
    {
     "name": "stdout",
     "output_type": "stream",
     "text": [
      "89\n",
      "21456\n",
      "\n",
      "56\n",
      "107\n",
      "\n",
      "107\n",
      "0\n"
     ]
    }
   ],
   "source": [
    "print(4291289 % 200)\n",
    "print(4291289 // 200)\n",
    "print()\n",
    "print(21456 % 200)\n",
    "print(21456 // 200)\n",
    "print()\n",
    "print(107 % 200)\n",
    "print(107 // 200)"
   ]
  },
  {
   "cell_type": "code",
   "execution_count": 30,
   "id": "robust-fundamental",
   "metadata": {},
   "outputs": [
    {
     "data": {
      "text/plain": [
       "'\\x9b'"
      ]
     },
     "execution_count": 30,
     "metadata": {},
     "output_type": "execute_result"
    }
   ],
   "source": [
    "chr(107 +48)"
   ]
  },
  {
   "cell_type": "code",
   "execution_count": 46,
   "id": "earned-profession",
   "metadata": {},
   "outputs": [],
   "source": [
    "def heavy(int_y, int_N):\n",
    "    \n",
    "    list_prev = [int_y]\n",
    "    \n",
    "    str_y = str(int_y)\n",
    "    int_y = 0\n",
    "    \n",
    "    for str_digit in str_y:\n",
    "        int_y += int(str_digit)**2\n",
    "        \n",
    "    while(1):\n",
    "        int_remainder = int_y % int_N\n",
    "        \n",
    "    \n",
    "    return int_y"
   ]
  },
  {
   "cell_type": "code",
   "execution_count": 1,
   "id": "scientific-martin",
   "metadata": {},
   "outputs": [
    {
     "ename": "NameError",
     "evalue": "name 'charmap' is not defined",
     "output_type": "error",
     "traceback": [
      "\u001b[1;31m---------------------------------------------------------------------------\u001b[0m",
      "\u001b[1;31mNameError\u001b[0m                                 Traceback (most recent call last)",
      "\u001b[1;32m<ipython-input-1-259058eff715>\u001b[0m in \u001b[0;36m<module>\u001b[1;34m\u001b[0m\n\u001b[1;32m----> 1\u001b[1;33m \u001b[0mcharmap\u001b[0m\u001b[1;33m(\u001b[0m\u001b[1;34m'\\x89'\u001b[0m\u001b[1;33m)\u001b[0m\u001b[1;33m\u001b[0m\u001b[1;33m\u001b[0m\u001b[0m\n\u001b[0m",
      "\u001b[1;31mNameError\u001b[0m: name 'charmap' is not defined"
     ]
    }
   ],
   "source": [
    "charmap('\\x89')"
   ]
  },
  {
   "cell_type": "code",
   "execution_count": 49,
   "id": "signed-canal",
   "metadata": {},
   "outputs": [
    {
     "data": {
      "text/plain": [
       "64"
      ]
     },
     "execution_count": 49,
     "metadata": {},
     "output_type": "execute_result"
    }
   ],
   "source": [
    "heavy(8, 12)"
   ]
  },
  {
   "cell_type": "code",
   "execution_count": 40,
   "id": "classified-minister",
   "metadata": {},
   "outputs": [
    {
     "data": {
      "text/plain": [
       "'8AB'"
      ]
     },
     "execution_count": 40,
     "metadata": {},
     "output_type": "execute_result"
    }
   ],
   "source": [
    "convertbase(convertbase('8AB', 20, 10), 10, 20)"
   ]
  },
  {
   "cell_type": "code",
   "execution_count": 44,
   "id": "round-variance",
   "metadata": {},
   "outputs": [
    {
     "data": {
      "text/plain": [
       "'1>'"
      ]
     },
     "execution_count": 44,
     "metadata": {},
     "output_type": "execute_result"
    }
   ],
   "source": [
    "convertbase('30', 10, 16)"
   ]
  },
  {
   "cell_type": "code",
   "execution_count": 12,
   "id": "emerging-shopping",
   "metadata": {},
   "outputs": [
    {
     "name": "stdout",
     "output_type": "stream",
     "text": [
      "0\n",
      "1\n",
      "2\n"
     ]
    }
   ],
   "source": [
    "def f(n:int) -> str:\n",
    "    return 2*n"
   ]
  },
  {
   "cell_type": "code",
   "execution_count": 18,
   "id": "accessory-climb",
   "metadata": {},
   "outputs": [
    {
     "data": {
      "text/plain": [
       "'abcdef'"
      ]
     },
     "execution_count": 18,
     "metadata": {},
     "output_type": "execute_result"
    }
   ],
   "source": [
    "a = \"abcdefg\"\n",
    "a[:-1]"
   ]
  },
  {
   "cell_type": "code",
   "execution_count": 45,
   "id": "facial-eleven",
   "metadata": {},
   "outputs": [
    {
     "data": {
      "text/plain": [
       "58"
      ]
     },
     "execution_count": 45,
     "metadata": {},
     "output_type": "execute_result"
    }
   ],
   "source": [
    "int(\"3a\", 16)"
   ]
  },
  {
   "cell_type": "code",
   "execution_count": 17,
   "id": "english-lesson",
   "metadata": {},
   "outputs": [
    {
     "name": "stdout",
     "output_type": "stream",
     "text": [
      "8\n",
      "17\n",
      "18\n",
      "1\n",
      "71161\n"
     ]
    }
   ],
   "source": [
    "numstr = \"8AB1\"\n",
    "frombase = 20\n",
    "for e in numstr:\n",
    "    print(ord(e) - ord(\"0\"))\n",
    "value = 8*20**3 + 17*20**2 + 18*20**1 + 1\n",
    "print(value)"
   ]
  },
  {
   "cell_type": "code",
   "execution_count": null,
   "id": "endangered-behavior",
   "metadata": {},
   "outputs": [],
   "source": [
    "y_0 = 4\n",
    "y_1 = 16\n",
    "y_2 = 37\n",
    "y_3 = 3*3 + 7*7\n",
    "y_4 = 5*5 + 8*8\n",
    "y_5 = "
   ]
  }
 ],
 "metadata": {
  "kernelspec": {
   "display_name": "Python 3",
   "language": "python",
   "name": "python3"
  },
  "language_info": {
   "codemirror_mode": {
    "name": "ipython",
    "version": 3
   },
   "file_extension": ".py",
   "mimetype": "text/x-python",
   "name": "python",
   "nbconvert_exporter": "python",
   "pygments_lexer": "ipython3",
   "version": "3.9.5"
  }
 },
 "nbformat": 4,
 "nbformat_minor": 5
}
