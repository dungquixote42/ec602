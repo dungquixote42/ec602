{
 "cells": [
  {
   "cell_type": "code",
   "execution_count": 6,
   "id": "imported-niagara",
   "metadata": {},
   "outputs": [
    {
     "data": {
      "text/plain": [
       "'π'"
      ]
     },
     "execution_count": 6,
     "metadata": {},
     "output_type": "execute_result"
    }
   ],
   "source": [
    "chr(960)"
   ]
  },
  {
   "cell_type": "code",
   "execution_count": 5,
   "id": "proprietary-interval",
   "metadata": {},
   "outputs": [
    {
     "name": "stdout",
     "output_type": "stream",
     "text": [
      "the letter p is at position 15 letter of the alphabet\n"
     ]
    }
   ],
   "source": [
    "# where is the letter p in the alphabet\n",
    "testchar = 'p'\n",
    "position = ord(testchar) - ord('a')\n",
    "print(f\"the letter {testchar} is at position {position} letter of the alphabet\")"
   ]
  },
  {
   "cell_type": "code",
   "execution_count": 8,
   "id": "combined-network",
   "metadata": {},
   "outputs": [
    {
     "name": "stdout",
     "output_type": "stream",
     "text": [
      "a\n",
      "4\n",
      "test\n"
     ]
    }
   ],
   "source": [
    "# create ascii table\n",
    "\n",
    "for name in ['a', 4, 'test']:\n",
    "    print(name)"
   ]
  },
  {
   "cell_type": "code",
   "execution_count": 13,
   "id": "younger-sector",
   "metadata": {},
   "outputs": [
    {
     "name": "stdout",
     "output_type": "stream",
     "text": [
      "\u0000 \u0001 \u0002 \u0003 \u0004 \u0005 \u0006 \u0007 \b \t \n",
      " \u000b",
      " \f",
      " \r",
      " \u000e \u000f \n",
      "\u0010 \u0011 \u0012 \u0013 \u0014 \u0015 \u0016 \u0017 \u0018 \u0019 \u001a \u001b \u001c",
      " \u001d",
      " \u001e",
      " \u001f \n",
      "  ! \" # $ % & ' ( ) * + , - . / \n",
      "0 1 2 3 4 5 6 7 8 9 : ; < = > ? \n",
      "@ A B C D E F G H I J K L M N O \n",
      "P Q R S T U V W X Y Z [ \\ ] ^ _ \n",
      "` a b c d e f g h i j k l m n o \n",
      "p q r s t u v w x y z { | } ~  \n",
      "     ",
      "           \n",
      "                \n",
      "  ¡ ¢ £ ¤ ¥ ¦ § ¨ © ª « ¬ ­ ® ¯ \n",
      "° ± ² ³ ´ µ ¶ · ¸ ¹ º » ¼ ½ ¾ ¿ \n",
      "À Á Â Ã Ä Å Æ Ç È É Ê Ë Ì Í Î Ï \n",
      "Ð Ñ Ò Ó Ô Õ Ö × Ø Ù Ú Û Ü Ý Þ ß \n",
      "à á â ã ä å æ ç è é ê ë ì í î ï \n",
      "ð ñ ò ó ô õ ö ÷ ø ù ú û ü ý þ ÿ \n"
     ]
    }
   ],
   "source": [
    "for i in range(256):\n",
    "    print(chr(i), end=' ')\n",
    "    if (i+1) % 16 == 0:\n",
    "        print()"
   ]
  },
  {
   "cell_type": "code",
   "execution_count": 14,
   "id": "informed-cotton",
   "metadata": {},
   "outputs": [
    {
     "name": "stdout",
     "output_type": "stream",
     "text": [
      "'\\x00' '\\x01' '\\x02' '\\x03' '\\x04' '\\x05' '\\x06' '\\x07' '\\x08' '\\t' '\\n' '\\x0b' '\\x0c' '\\r' '\\x0e' '\\x0f' \n",
      "'\\x10' '\\x11' '\\x12' '\\x13' '\\x14' '\\x15' '\\x16' '\\x17' '\\x18' '\\x19' '\\x1a' '\\x1b' '\\x1c' '\\x1d' '\\x1e' '\\x1f' \n",
      "' ' '!' '\"' '#' '$' '%' '&' \"'\" '(' ')' '*' '+' ',' '-' '.' '/' \n",
      "'0' '1' '2' '3' '4' '5' '6' '7' '8' '9' ':' ';' '<' '=' '>' '?' \n",
      "'@' 'A' 'B' 'C' 'D' 'E' 'F' 'G' 'H' 'I' 'J' 'K' 'L' 'M' 'N' 'O' \n",
      "'P' 'Q' 'R' 'S' 'T' 'U' 'V' 'W' 'X' 'Y' 'Z' '[' '\\\\' ']' '^' '_' \n",
      "'`' 'a' 'b' 'c' 'd' 'e' 'f' 'g' 'h' 'i' 'j' 'k' 'l' 'm' 'n' 'o' \n",
      "'p' 'q' 'r' 's' 't' 'u' 'v' 'w' 'x' 'y' 'z' '{' '|' '}' '~' '\\x7f' \n",
      "'\\x80' '\\x81' '\\x82' '\\x83' '\\x84' '\\x85' '\\x86' '\\x87' '\\x88' '\\x89' '\\x8a' '\\x8b' '\\x8c' '\\x8d' '\\x8e' '\\x8f' \n",
      "'\\x90' '\\x91' '\\x92' '\\x93' '\\x94' '\\x95' '\\x96' '\\x97' '\\x98' '\\x99' '\\x9a' '\\x9b' '\\x9c' '\\x9d' '\\x9e' '\\x9f' \n",
      "'\\xa0' '¡' '¢' '£' '¤' '¥' '¦' '§' '¨' '©' 'ª' '«' '¬' '\\xad' '®' '¯' \n",
      "'°' '±' '²' '³' '´' 'µ' '¶' '·' '¸' '¹' 'º' '»' '¼' '½' '¾' '¿' \n",
      "'À' 'Á' 'Â' 'Ã' 'Ä' 'Å' 'Æ' 'Ç' 'È' 'É' 'Ê' 'Ë' 'Ì' 'Í' 'Î' 'Ï' \n",
      "'Ð' 'Ñ' 'Ò' 'Ó' 'Ô' 'Õ' 'Ö' '×' 'Ø' 'Ù' 'Ú' 'Û' 'Ü' 'Ý' 'Þ' 'ß' \n",
      "'à' 'á' 'â' 'ã' 'ä' 'å' 'æ' 'ç' 'è' 'é' 'ê' 'ë' 'ì' 'í' 'î' 'ï' \n",
      "'ð' 'ñ' 'ò' 'ó' 'ô' 'õ' 'ö' '÷' 'ø' 'ù' 'ú' 'û' 'ü' 'ý' 'þ' 'ÿ' \n"
     ]
    }
   ],
   "source": [
    "for i in range(256):\n",
    "    print(repr(chr(i), end=' ')\n",
    "    if (i+1) % 16 == 0:\n",
    "        print()"
   ]
  },
  {
   "cell_type": "code",
   "execution_count": 29,
   "id": "characteristic-opera",
   "metadata": {},
   "outputs": [
    {
     "name": "stdout",
     "output_type": "stream",
     "text": [
      "\\x00 \\x01 \\x02 \\x03 \\x04 \\x05 \\x06 \\x07 \\x08 \\t \\n \\x0b \\x0c \\r \\x0e \\x0f \n",
      "\\x10 \\x11 \\x12 \\x13 \\x14 \\x15 \\x16 \\x17 \\x18 \\x19 \\x1a \\x1b \\x1c \\x1d \\x1e \\x1f \n",
      "  ! \" # $ % & ' ( ) * + , - . / \n",
      "0 1 2 3 4 5 6 7 8 9 : ; < = > ? \n",
      "@ A B C D E F G H I J K L M N O \n",
      "P Q R S T U V W X Y Z [ \\\\ ] ^ _ \n",
      "` a b c d e f g h i j k l m n o \n",
      "p q r s t u v w x y z { | } ~ \\x7f \n",
      "\\x80 \\x81 \\x82 \\x83 \\x84 \\x85 \\x86 \\x87 \\x88 \\x89 \\x8a \\x8b \\x8c \\x8d \\x8e \\x8f \n",
      "\\x90 \\x91 \\x92 \\x93 \\x94 \\x95 \\x96 \\x97 \\x98 \\x99 \\x9a \\x9b \\x9c \\x9d \\x9e \\x9f \n",
      "\\xa0 ¡ ¢ £ ¤ ¥ ¦ § ¨ © ª « ¬ \\xad ® ¯ \n",
      "° ± ² ³ ´ µ ¶ · ¸ ¹ º » ¼ ½ ¾ ¿ \n",
      "À Á Â Ã Ä Å Æ Ç È É Ê Ë Ì Í Î Ï \n",
      "Ð Ñ Ò Ó Ô Õ Ö × Ø Ù Ú Û Ü Ý Þ ß \n",
      "à á â ã ä å æ ç è é ê ë ì í î ï \n",
      "ð ñ ò ó ô õ ö ÷ ø ù ú û ü ý þ ÿ \n"
     ]
    }
   ],
   "source": [
    "for i in range(256):\n",
    "    the_chr = repr(chr(i))\n",
    "    #print(i, len(the_chr), end=\" \")\n",
    "    \n",
    "    if len(the_chr) == 3:\n",
    "        print(chr(i), end=\" \")\n",
    "    else:\n",
    "        print(the_chr[1:-1], end=\" \")\n",
    "    \n",
    "    if (i+1) % 16 == 0:\n",
    "        print()"
   ]
  },
  {
   "cell_type": "code",
   "execution_count": 32,
   "id": "wanted-receipt",
   "metadata": {},
   "outputs": [
    {
     "name": "stdout",
     "output_type": "stream",
     "text": [
      " \\x00 \\x01 \\x02 \\x03 \\x04 \\x05 \\x06 \\x07 \\x08   \\t   \\n \\x0b \\x0c   \\r \\x0e \\x0f\n",
      " \\x10 \\x11 \\x12 \\x13 \\x14 \\x15 \\x16 \\x17 \\x18 \\x19 \\x1a \\x1b \\x1c \\x1d \\x1e \\x1f\n",
      "         !    \"    #    $    %    &    '    (    )    *    +    ,    -    .    /\n",
      "    0    1    2    3    4    5    6    7    8    9    :    ;    <    =    >    ?\n",
      "    @    A    B    C    D    E    F    G    H    I    J    K    L    M    N    O\n",
      "    P    Q    R    S    T    U    V    W    X    Y    Z    [   \\\\    ]    ^    _\n",
      "    `    a    b    c    d    e    f    g    h    i    j    k    l    m    n    o\n",
      "    p    q    r    s    t    u    v    w    x    y    z    {    |    }    ~ \\x7f\n",
      " \\x80 \\x81 \\x82 \\x83 \\x84 \\x85 \\x86 \\x87 \\x88 \\x89 \\x8a \\x8b \\x8c \\x8d \\x8e \\x8f\n",
      " \\x90 \\x91 \\x92 \\x93 \\x94 \\x95 \\x96 \\x97 \\x98 \\x99 \\x9a \\x9b \\x9c \\x9d \\x9e \\x9f\n",
      " \\xa0    ¡    ¢    £    ¤    ¥    ¦    §    ¨    ©    ª    «    ¬ \\xad    ®    ¯\n",
      "    °    ±    ²    ³    ´    µ    ¶    ·    ¸    ¹    º    »    ¼    ½    ¾    ¿\n",
      "    À    Á    Â    Ã    Ä    Å    Æ    Ç    È    É    Ê    Ë    Ì    Í    Î    Ï\n",
      "    Ð    Ñ    Ò    Ó    Ô    Õ    Ö    ×    Ø    Ù    Ú    Û    Ü    Ý    Þ    ß\n",
      "    à    á    â    ã    ä    å    æ    ç    è    é    ê    ë    ì    í    î    ï\n",
      "    ð    ñ    ò    ó    ô    õ    ö    ÷    ø    ù    ú    û    ü    ý    þ    ÿ\n"
     ]
    }
   ],
   "source": [
    "for i in range(256):\n",
    "    the_chr = repr(chr(i))\n",
    "    #print(i, len(the_chr), end=\" \")\n",
    "    \n",
    "    s = \" \"*5 + the_chr[1:-1]\n",
    "    print(s[-5:], end=\"\")\n",
    "    #print(the_chr[1:-1], end=\" \")\n",
    "    \n",
    "    if (i+1) % 16 == 0:\n",
    "        print()"
   ]
  },
  {
   "cell_type": "code",
   "execution_count": 16,
   "id": "broadband-comedy",
   "metadata": {},
   "outputs": [
    {
     "name": "stdout",
     "output_type": "stream",
     "text": [
      "0 '\n",
      "1 \\\n",
      "2 x\n",
      "3 0\n",
      "4 0\n",
      "5 '\n"
     ]
    }
   ],
   "source": [
    "charzero = repr(chr(0))\n",
    "\n",
    "for index,value in enumerate(charzero):\n",
    "    print(index,value)"
   ]
  },
  {
   "cell_type": "code",
   "execution_count": 25,
   "id": "scientific-minister",
   "metadata": {},
   "outputs": [
    {
     "name": "stdout",
     "output_type": "stream",
     "text": [
      "sst\n",
      "sstring\n",
      "thiss\n",
      "ing\n"
     ]
    }
   ],
   "source": [
    "# slicing start:stop:step\n",
    "\n",
    "s = \"thisstring\"\n",
    "print(s[3:6])\n",
    "print(s[3:])\n",
    "print(s[:5])\n",
    "print(s[-3:])"
   ]
  },
  {
   "cell_type": "code",
   "execution_count": null,
   "id": "built-mongolia",
   "metadata": {},
   "outputs": [],
   "source": []
  }
 ],
 "metadata": {
  "kernelspec": {
   "display_name": "Python 3",
   "language": "python",
   "name": "python3"
  },
  "language_info": {
   "codemirror_mode": {
    "name": "ipython",
    "version": 3
   },
   "file_extension": ".py",
   "mimetype": "text/x-python",
   "name": "python",
   "nbconvert_exporter": "python",
   "pygments_lexer": "ipython3",
   "version": "3.9.5"
  }
 },
 "nbformat": 4,
 "nbformat_minor": 5
}
