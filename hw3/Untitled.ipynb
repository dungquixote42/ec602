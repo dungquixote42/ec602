{
 "cells": [
  {
   "cell_type": "code",
   "execution_count": 2,
   "id": "150bab0e",
   "metadata": {},
   "outputs": [],
   "source": [
    "def duplicate_names(names, duplicates=[]):\n",
    "    \"find duplicates in names\"\n",
    "    s = set()\n",
    "    print(id(duplicates))\n",
    "    for name in names:\n",
    "        if name in s:\n",
    "            duplicates.append(name)\n",
    "        else:\n",
    "            s.add(name)\n",
    "    return duplicates"
   ]
  },
  {
   "cell_type": "code",
   "execution_count": 8,
   "id": "f3118cb3",
   "metadata": {},
   "outputs": [
    {
     "name": "stdout",
     "output_type": "stream",
     "text": [
      "1524781518848\n",
      "['Mitch']\n"
     ]
    }
   ],
   "source": [
    "names = [\"Ky\", \"Rich\", \"Mitch\", \"Jeff\", \"Mitch\"]\n",
    "s1 = duplicate_names(names, [])\n",
    "print(s1)"
   ]
  },
  {
   "cell_type": "code",
   "execution_count": 9,
   "id": "007fe5a2",
   "metadata": {},
   "outputs": [
    {
     "name": "stdout",
     "output_type": "stream",
     "text": [
      "1524781520128\n",
      "['Rich']\n"
     ]
    }
   ],
   "source": [
    "names = [\"Ky\", \"Rich\", \"Rich\"]\n",
    "s2 = duplicate_names(names, [])\n",
    "print(s2)"
   ]
  },
  {
   "cell_type": "code",
   "execution_count": null,
   "id": "11875ce6",
   "metadata": {},
   "outputs": [],
   "source": []
  }
 ],
 "metadata": {
  "kernelspec": {
   "display_name": "Python 3 (ipykernel)",
   "language": "python",
   "name": "python3"
  },
  "language_info": {
   "codemirror_mode": {
    "name": "ipython",
    "version": 3
   },
   "file_extension": ".py",
   "mimetype": "text/x-python",
   "name": "python",
   "nbconvert_exporter": "python",
   "pygments_lexer": "ipython3",
   "version": "3.10.4"
  }
 },
 "nbformat": 4,
 "nbformat_minor": 5
}
