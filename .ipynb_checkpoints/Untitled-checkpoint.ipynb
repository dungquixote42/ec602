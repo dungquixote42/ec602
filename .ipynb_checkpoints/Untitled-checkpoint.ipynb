{
 "cells": [
  {
   "cell_type": "code",
   "execution_count": 1,
   "id": "scientific-diameter",
   "metadata": {},
   "outputs": [],
   "source": [
    "# sum of squares of the digits in a base\n",
    "\n",
    "def f():\n",
    "    \"this is a doc-string\"\n",
    "    3.14\n",
    "    42"
   ]
  },
  {
   "cell_type": "code",
   "execution_count": 3,
   "id": "sweet-farming",
   "metadata": {
    "scrolled": true
   },
   "outputs": [
    {
     "name": "stdout",
     "output_type": "stream",
     "text": [
      "Help on function f in module __main__:\n",
      "\n",
      "f()\n",
      "    this is a doc-string\n",
      "\n"
     ]
    }
   ],
   "source": [
    "help(f)"
   ]
  },
  {
   "cell_type": "code",
   "execution_count": 6,
   "id": "infinite-pixel",
   "metadata": {},
   "outputs": [],
   "source": [
    "def int_sum_of_digits_squared(int_num: int, int_base: int) -> int:\n",
    "    \"find the digit square sum in the specified base\"\n",
    "    "
   ]
  },
  {
   "cell_type": "code",
   "execution_count": 34,
   "id": "stopped-chorus",
   "metadata": {},
   "outputs": [],
   "source": [
    "# duck typing is pythonic\n",
    "\n",
    "def int_sum_of_digits_squared(int_num, /, *, int_base):\n",
    "    \"find the digit square sum in the specified base\"\n",
    "    \n",
    "    int_total = 0\n",
    "    while(int_num > 0):\n",
    "        int_total += (int_num % int_base)**2\n",
    "        int_num = int_num // int_base\n",
    "        \n",
    "    return int_total"
   ]
  },
  {
   "cell_type": "code",
   "execution_count": 38,
   "id": "suspected-audience",
   "metadata": {
    "scrolled": true
   },
   "outputs": [
    {
     "data": {
      "text/plain": [
       "14"
      ]
     },
     "execution_count": 38,
     "metadata": {},
     "output_type": "execute_result"
    }
   ],
   "source": [
    "int_sum_of_digits_squared(123, int_base=10)"
   ]
  },
  {
   "cell_type": "code",
   "execution_count": 24,
   "id": "cheap-appliance",
   "metadata": {},
   "outputs": [
    {
     "data": {
      "text/plain": [
       "123"
      ]
     },
     "execution_count": 24,
     "metadata": {},
     "output_type": "execute_result"
    }
   ],
   "source": [
    "a = 123\n",
    "int_sum_of_digits_squared(a, 10)\n",
    "a"
   ]
  },
  {
   "cell_type": "code",
   "execution_count": 23,
   "id": "iraqi-undergraduate",
   "metadata": {},
   "outputs": [
    {
     "ename": "TypeError",
     "evalue": "int_sum_of_digits_squared() got some positional-only arguments passed as keyword arguments: 'int_num'",
     "output_type": "error",
     "traceback": [
      "\u001b[1;31m---------------------------------------------------------------------------\u001b[0m",
      "\u001b[1;31mTypeError\u001b[0m                                 Traceback (most recent call last)",
      "\u001b[1;32m<ipython-input-23-591af6f56d33>\u001b[0m in \u001b[0;36m<module>\u001b[1;34m\u001b[0m\n\u001b[1;32m----> 1\u001b[1;33m \u001b[0mint_sum_of_digits_squared\u001b[0m\u001b[1;33m(\u001b[0m\u001b[0mint_num\u001b[0m \u001b[1;33m=\u001b[0m \u001b[1;36m2\u001b[0m\u001b[1;33m,\u001b[0m \u001b[0mint_base\u001b[0m \u001b[1;33m=\u001b[0m \u001b[1;36m2\u001b[0m\u001b[1;33m)\u001b[0m\u001b[1;33m\u001b[0m\u001b[1;33m\u001b[0m\u001b[0m\n\u001b[0m",
      "\u001b[1;31mTypeError\u001b[0m: int_sum_of_digits_squared() got some positional-only arguments passed as keyword arguments: 'int_num'"
     ]
    }
   ],
   "source": [
    "int_sum_of_digits_squared(int_num = 2, int_base = 2)"
   ]
  },
  {
   "cell_type": "code",
   "execution_count": 55,
   "id": "confidential-westminster",
   "metadata": {},
   "outputs": [],
   "source": [
    "\"\"\"\n",
    "\n",
    "def f(pos1, pos2, /, pos_or_kwd, *, kwd1, kwd2)\n",
    "\n",
    "\"\"\"\n",
    "\n",
    "def f(pos1, pos2, /, pos_or_kwd, *, kwd1, kwd2):\n",
    "    print(pos1, pos2)\n",
    "    print(pos_or_kwd)\n",
    "    print(kwd1, kwd2)"
   ]
  },
  {
   "cell_type": "code",
   "execution_count": 56,
   "id": "graphic-oxygen",
   "metadata": {},
   "outputs": [
    {
     "name": "stdout",
     "output_type": "stream",
     "text": [
      "1 2\n",
      "3\n",
      "4 5\n"
     ]
    }
   ],
   "source": [
    "f(1, 2, pos_or_kwd=3, kwd1=4, kwd2=5)"
   ]
  },
  {
   "cell_type": "code",
   "execution_count": 20,
   "id": "automotive-graphic",
   "metadata": {},
   "outputs": [
    {
     "name": "stdout",
     "output_type": "stream",
     "text": [
      "Help on built-in function cos in module math:\n",
      "\n",
      "cos(x, /)\n",
      "    Return the cosine of x (measured in radians).\n",
      "\n"
     ]
    }
   ],
   "source": [
    "import math\n",
    "help(math.cos)"
   ]
  },
  {
   "cell_type": "code",
   "execution_count": 21,
   "id": "historic-longitude",
   "metadata": {},
   "outputs": [
    {
     "ename": "TypeError",
     "evalue": "math.cos() takes no keyword arguments",
     "output_type": "error",
     "traceback": [
      "\u001b[1;31m---------------------------------------------------------------------------\u001b[0m",
      "\u001b[1;31mTypeError\u001b[0m                                 Traceback (most recent call last)",
      "\u001b[1;32m<ipython-input-21-a55df3fa4995>\u001b[0m in \u001b[0;36m<module>\u001b[1;34m\u001b[0m\n\u001b[1;32m----> 1\u001b[1;33m \u001b[0mmath\u001b[0m\u001b[1;33m.\u001b[0m\u001b[0mcos\u001b[0m\u001b[1;33m(\u001b[0m\u001b[0mx\u001b[0m\u001b[1;33m=\u001b[0m\u001b[1;36m5\u001b[0m\u001b[1;33m)\u001b[0m\u001b[1;33m\u001b[0m\u001b[1;33m\u001b[0m\u001b[0m\n\u001b[0m",
      "\u001b[1;31mTypeError\u001b[0m: math.cos() takes no keyword arguments"
     ]
    }
   ],
   "source": [
    "math.cos(x=5)"
   ]
  },
  {
   "cell_type": "code",
   "execution_count": 45,
   "id": "centered-seller",
   "metadata": {},
   "outputs": [],
   "source": [
    "# grab all positional arguments\n",
    "def f(*pos):\n",
    "    print(pos, type(pos))"
   ]
  },
  {
   "cell_type": "code",
   "execution_count": 46,
   "id": "academic-detector",
   "metadata": {},
   "outputs": [
    {
     "name": "stdout",
     "output_type": "stream",
     "text": [
      "([5, 6, 7], 1) <class 'tuple'>\n"
     ]
    }
   ],
   "source": [
    "f([5, 6, 7], 1)"
   ]
  },
  {
   "cell_type": "code",
   "execution_count": 51,
   "id": "generic-lobby",
   "metadata": {},
   "outputs": [],
   "source": [
    "def g(**words):\n",
    "    print(words, type(words))"
   ]
  },
  {
   "cell_type": "code",
   "execution_count": 44,
   "id": "instructional-garden",
   "metadata": {},
   "outputs": [
    {
     "name": "stdout",
     "output_type": "stream",
     "text": [
      "{'test': 1, 'one': 'this', 'base': 6}\n"
     ]
    }
   ],
   "source": [
    "g(test=1, one=\"this\", base=6)"
   ]
  },
  {
   "cell_type": "code",
   "execution_count": 49,
   "id": "psychological-selection",
   "metadata": {
    "scrolled": true
   },
   "outputs": [
    {
     "data": {
      "text/plain": [
       "['In',\n",
       " 'Out',\n",
       " '_',\n",
       " '_11',\n",
       " '_12',\n",
       " '_13',\n",
       " '_14',\n",
       " '_18',\n",
       " '_19',\n",
       " '_24',\n",
       " '_26',\n",
       " '_27',\n",
       " '_31',\n",
       " '_38',\n",
       " '_9',\n",
       " '__',\n",
       " '___',\n",
       " '__builtin__',\n",
       " '__builtins__',\n",
       " '__doc__',\n",
       " '__loader__',\n",
       " '__name__',\n",
       " '__package__',\n",
       " '__spec__',\n",
       " '_dh',\n",
       " '_i',\n",
       " '_i1',\n",
       " '_i10',\n",
       " '_i11',\n",
       " '_i12',\n",
       " '_i13',\n",
       " '_i14',\n",
       " '_i15',\n",
       " '_i16',\n",
       " '_i17',\n",
       " '_i18',\n",
       " '_i19',\n",
       " '_i2',\n",
       " '_i20',\n",
       " '_i21',\n",
       " '_i22',\n",
       " '_i23',\n",
       " '_i24',\n",
       " '_i25',\n",
       " '_i26',\n",
       " '_i27',\n",
       " '_i28',\n",
       " '_i29',\n",
       " '_i3',\n",
       " '_i30',\n",
       " '_i31',\n",
       " '_i32',\n",
       " '_i33',\n",
       " '_i34',\n",
       " '_i35',\n",
       " '_i36',\n",
       " '_i37',\n",
       " '_i38',\n",
       " '_i39',\n",
       " '_i4',\n",
       " '_i40',\n",
       " '_i41',\n",
       " '_i42',\n",
       " '_i43',\n",
       " '_i44',\n",
       " '_i45',\n",
       " '_i46',\n",
       " '_i47',\n",
       " '_i48',\n",
       " '_i49',\n",
       " '_i5',\n",
       " '_i6',\n",
       " '_i7',\n",
       " '_i8',\n",
       " '_i9',\n",
       " '_ih',\n",
       " '_ii',\n",
       " '_iii',\n",
       " '_oh',\n",
       " 'a',\n",
       " 'exit',\n",
       " 'f',\n",
       " 'g',\n",
       " 'get_ipython',\n",
       " 'int_sum_digit_squared',\n",
       " 'int_sum_of_digits_squared',\n",
       " 'math',\n",
       " 'quit']"
      ]
     },
     "execution_count": 49,
     "metadata": {},
     "output_type": "execute_result"
    }
   ],
   "source": [
    "dir()"
   ]
  },
  {
   "cell_type": "code",
   "execution_count": 52,
   "id": "covered-stamp",
   "metadata": {},
   "outputs": [
    {
     "name": "stdout",
     "output_type": "stream",
     "text": [
      "{'one': 'test', 'apple': 6} <class 'dict'>\n"
     ]
    }
   ],
   "source": [
    "my_keys = {\"one\": \"test\", \"apple\": 6}\n",
    "g(**my_keys)"
   ]
  },
  {
   "cell_type": "code",
   "execution_count": 53,
   "id": "religious-wales",
   "metadata": {},
   "outputs": [
    {
     "name": "stdout",
     "output_type": "stream",
     "text": [
      "('one', 'apple') <class 'tuple'>\n"
     ]
    }
   ],
   "source": [
    "f(*my_keys)"
   ]
  },
  {
   "cell_type": "code",
   "execution_count": 57,
   "id": "natural-opportunity",
   "metadata": {},
   "outputs": [
    {
     "name": "stdout",
     "output_type": "stream",
     "text": [
      "[3, 4, 5, 'new']\n"
     ]
    }
   ],
   "source": [
    "w =[3, 4, 5]\n",
    "w.append(\"new\")\n",
    "print(w)"
   ]
  },
  {
   "cell_type": "code",
   "execution_count": 58,
   "id": "perceived-mission",
   "metadata": {},
   "outputs": [
    {
     "name": "stdout",
     "output_type": "stream",
     "text": [
      "None\n"
     ]
    }
   ],
   "source": [
    "q = [3, 4, 5]\n",
    "q = q.append(\"new\")\n",
    "print(q)"
   ]
  },
  {
   "cell_type": "code",
   "execution_count": 60,
   "id": "political-factory",
   "metadata": {},
   "outputs": [
    {
     "name": "stdout",
     "output_type": "stream",
     "text": [
      "1\n",
      "3\n",
      "5\n",
      "7\n",
      "9\n",
      "11\n",
      "13\n",
      "15\n",
      "17\n",
      "19\n"
     ]
    }
   ],
   "source": [
    "even = []\n",
    "for i in range(20):\n",
    "    if i % 2 == 1:\n",
    "        print(i)"
   ]
  },
  {
   "cell_type": "code",
   "execution_count": 83,
   "id": "breathing-spain",
   "metadata": {},
   "outputs": [],
   "source": [
    "# write a function that adds quotes \" to a string at either end\n",
    "\n",
    "def quote_adder(left, str_arg, right):\n",
    "    return left*'\"' + str_arg + right*'\"'"
   ]
  },
  {
   "cell_type": "code",
   "execution_count": 84,
   "id": "drawn-mumbai",
   "metadata": {},
   "outputs": [
    {
     "data": {
      "text/plain": [
       "'string\"'"
      ]
     },
     "execution_count": 84,
     "metadata": {},
     "output_type": "execute_result"
    }
   ],
   "source": [
    "quote_adder(False, \"string\", True)"
   ]
  },
  {
   "cell_type": "code",
   "execution_count": 104,
   "id": "secret-pitch",
   "metadata": {},
   "outputs": [],
   "source": [
    "# write a function that adds a zero to either end of a list\n",
    "\n",
    "def zero_adder(list_arg, *, left, right):\n",
    "    if left > 0:\n",
    "        list_arg.insert(0, 0)\n",
    "        return zero_adder(list_arg, left=left-1, right=right)\n",
    "    if right > 0:\n",
    "        list_arg.append(0)\n",
    "        return zero_adder(list_arg, left=left, right=right-1)\n",
    "    return list_arg"
   ]
  },
  {
   "cell_type": "code",
   "execution_count": 105,
   "id": "surface-discrimination",
   "metadata": {},
   "outputs": [
    {
     "data": {
      "text/plain": [
       "[0, 1, 2, 3, 0, 0, 0]"
      ]
     },
     "execution_count": 105,
     "metadata": {},
     "output_type": "execute_result"
    }
   ],
   "source": [
    "zero_adder([1, 2, 3], left=1, right=3)"
   ]
  },
  {
   "cell_type": "code",
   "execution_count": 106,
   "id": "organizational-planet",
   "metadata": {},
   "outputs": [
    {
     "data": {
      "text/plain": [
       "[0, 0, 0, 1, 2, 3, 0, 0, 0, 0]"
      ]
     },
     "execution_count": 106,
     "metadata": {},
     "output_type": "execute_result"
    }
   ],
   "source": [
    "a = [1, 2, 3]\n",
    "b = a.copy()\n",
    "zero_adder(b, left=3, right=4)"
   ]
  }
 ],
 "metadata": {
  "kernelspec": {
   "display_name": "Python 3",
   "language": "python",
   "name": "python3"
  },
  "language_info": {
   "codemirror_mode": {
    "name": "ipython",
    "version": 3
   },
   "file_extension": ".py",
   "mimetype": "text/x-python",
   "name": "python",
   "nbconvert_exporter": "python",
   "pygments_lexer": "ipython3",
   "version": "3.9.5"
  }
 },
 "nbformat": 4,
 "nbformat_minor": 5
}
